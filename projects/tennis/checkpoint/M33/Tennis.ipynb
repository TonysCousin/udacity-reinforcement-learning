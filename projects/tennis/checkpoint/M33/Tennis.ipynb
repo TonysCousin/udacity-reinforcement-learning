{
 "cells": [
  {
   "cell_type": "markdown",
   "metadata": {},
   "source": [
    "# Collaboration and Competition\n",
    "\n",
    "---\n",
    "\n",
    "This notebook runs John's solution for the third project of the [Deep Reinforcement Learning Nanodegree](https://www.udacity.com/course/deep-reinforcement-learning-nanodegree--nd893) program.  It uses the Unity ML-Agents environment to train two cooperative agents to play a tennis-like game.\n",
    "\n",
    "**Need more description here - refer to readme?**\n",
    "\n",
    "\n",
    "\n",
    "\n",
    "\n",
    "\n",
    "...\n"
   ]
  },
  {
   "cell_type": "markdown",
   "metadata": {},
   "source": [
    "This code depends upon a custom Unity environment provided by the Udacity staff that embodies the variation on tennis.  It will open a separate Unity window for visualizing the environment as the agents train or play.\n"
   ]
  },
  {
   "cell_type": "code",
   "execution_count": 1,
   "metadata": {},
   "outputs": [
    {
     "name": "stderr",
     "output_type": "stream",
     "text": [
      "INFO:unityagents:\n",
      "'Academy' started successfully!\n",
      "Unity Academy name: Academy\n",
      "        Number of Brains: 1\n",
      "        Number of External Brains : 1\n",
      "        Lesson number : 0\n",
      "        Reset Parameters :\n",
      "\t\t\n",
      "Unity brain name: TennisBrain\n",
      "        Number of Visual Observations (per agent): 0\n",
      "        Vector Observation space type: continuous\n",
      "        Vector Observation space size (per agent): 8\n",
      "        Number of stacked Vector Observation: 3\n",
      "        Vector Action space type: continuous\n",
      "        Vector Action space size (per agent): 2\n",
      "        Vector Action descriptions: , \n"
     ]
    }
   ],
   "source": [
    "import numpy as np\n",
    "import time\n",
    "import matplotlib.pyplot as plt\n",
    "from unityagents import UnityEnvironment\n",
    "from train import train\n",
    "from maddpg import Maddpg\n",
    "\n",
    "%matplotlib inline\n",
    "\n",
    "# create a new Unity environment\n",
    "# it needs to be done once, outside any loop, as closing an environment then restarting causes\n",
    "# a Unity exception about the handle no longer being active.\n",
    "env = UnityEnvironment(file_name=\"Tennis_Linux/Tennis.x86_64\", seed=0, \n",
    "                       no_graphics=True)\n",
    "brain_name = env.brain_names[0]\n",
    "brain = env.brains[brain_name]                       \n",
    "env_info = env.reset(train_mode=True)[brain_name]\n",
    "num_agents = len(env_info.agents)\n",
    "action_size = brain.vector_action_space_size\n",
    "states = env_info.vector_observations\n",
    "state_size = states.shape[1]\n"
   ]
  },
  {
   "cell_type": "markdown",
   "metadata": {},
   "source": [
    "## Train the agents\n",
    "\n",
    "The next cells will invoke the training program to create the agents.  All of the real code is in Python flat files in this project directory."
   ]
  },
  {
   "cell_type": "code",
   "execution_count": 2,
   "metadata": {},
   "outputs": [
    {
     "name": "stdout",
     "output_type": "stream",
     "text": [
      "\n",
      " 0 \n",
      " [77, 500, 43, 5, 0.6683064524062604, -1.8094534385249232, 3.7921387188660036]\n",
      "\n",
      " 1 \n",
      " [66, 500, 43, 7, 0.20474055947514735, -1.5711213829845132, 0.9459261350619546]\n",
      "\n",
      " 2 \n",
      " [77, 500, 43, 4, 0.45608087403009157, -0.6427999395894033, 1.1247302550358564]\n"
     ]
    }
   ],
   "source": [
    "import numpy as np\n",
    "\n",
    "class RandomSampler():\n",
    "    \n",
    "    def __init__(self, vars):\n",
    "        \"\"\"Accepts definition of the set of variables to be sampled.\n",
    "            \n",
    "            Params:\n",
    "                vars (list of lists): each item is a list containing:\n",
    "                                        item 0 - either 'discrete', 'continuous-int' or 'continuous-float'\n",
    "                                        items 1-N depend on the value of item 0:\n",
    "                                        if discrete, then these are the set of values to be chosen from\n",
    "                                        if continuous then these are the min & max bounds of the range\n",
    "        \"\"\"\n",
    "        \n",
    "        self.vars = vars\n",
    "        \n",
    "        self.rng = np.random.default_rng()\n",
    "    \n",
    "    \n",
    "    def sample(self):\n",
    "        \"\"\"Draws a random sample of all variables at its disposal.\n",
    "        \n",
    "            Returns a list of values in the order of definition.\n",
    "        \"\"\"\n",
    "\n",
    "        rtn = []\n",
    "        for v in self.vars:\n",
    "            if v[0] == \"discrete\":\n",
    "                choice = self.rng.integers(low=1, high=len(v), size=1)[0]\n",
    "                rtn.append(v[choice])\n",
    "                \n",
    "            elif v[0] == \"continuous-int\":\n",
    "                choice = self.rng.integers(low=v[1], high=v[2], size=1)[0]\n",
    "                rtn.append(choice)\n",
    "                \n",
    "            elif v[0] == \"continuous-float\":\n",
    "                choice = self.rng.random() * (v[2]-v[1]) + v[1]\n",
    "                rtn.append(choice)\n",
    "            \n",
    "            else:\n",
    "                print(\"///// RandomSampler error:  unknown type \", v[0])\n",
    "            \n",
    "        return rtn\n",
    "                \n",
    "vars = [[\"discrete\", 88, 66, 11, 22, 33, 44, 99, 101, 77],\n",
    "        [\"discrete\", 500], #1-item list\n",
    "        [\"continuous-int\", 43, 44], #1-item range\n",
    "        [\"continuous-int\", 0, 10],\n",
    "        [\"continuous-float\", 0.0, 1.0],\n",
    "        [\"continuous-float\", -3.3, 0.0],\n",
    "        [\"continuous-float\", -1.0, 6.4],\n",
    "       ]\n",
    "rs = RandomSampler(vars)\n",
    "\n",
    "for i in range(3):\n",
    "    out = rs.sample()\n",
    "    print(\"\\n\", i, \"\\n\", out)\n"
   ]
  },
  {
   "cell_type": "code",
   "execution_count": 3,
   "metadata": {
    "scrolled": true
   },
   "outputs": [
    {
     "name": "stdout",
     "output_type": "stream",
     "text": [
      "Ready to train M33 over 30 training sets for 15001 episodes each, with fixed params:\n",
      "    Max episodes  =  15001\n",
      "    Weight decay  =  0.0\n",
      "    Gamma         =  0.99\n",
      "    Buf prime size=  5000\n",
      "\n",
      "///// Beginning training set  M33.00  with:\n",
      "      Batch size       = 128\n",
      "      Buffer size      = 100000\n",
      "      Bad step prob    = 1.0000\n",
      "      Noise decay      = 0.999926\n",
      "      Noise scale      = 0.047\n",
      "      LR actor         = 0.000036\n",
      "      LR critic        = 0.000011\n",
      "      Learning every      91  time steps\n",
      "      Learn iterations =  2\n",
      "      Tau              = 0.00200\n",
      "      Seed             =  44939\n",
      "2000\tAverage score:   0.025,        mem:   1861/   404 (21.7%), avg 1.0 eps/min; ???   \n",
      "4000\tAverage score:   0.023,        mem:   3760/   825 (21.9%), avg 1.0 eps/min; ???   \n",
      "5269\tRunning avg/max: 0.027/0.200,  mem:   4999/  1116 (22.3%), avg 1.0 eps/min   \n",
      "* Replay buffer fully primed. Learning will commence.\n",
      "6000\tAverage score:   0.000,        mem:  15639/  1119 ( 7.2%), avg 1168.3 eps/min;  0.1 hr rem   \n",
      "6018\tRunning avg/max: 0.000/0.000,  mem:  15895/  1119 ( 7.0%), avg 1168.7 eps/min   \n",
      "* noise mult = 0.2\n",
      "8000\tAverage score:   0.000,        mem:  44039/  1119 ( 2.5%), avg 1228.1 eps/min;  0.1 hr rem   \n",
      "8877\tRunning avg/max: 0.000/0.000,  mem:  56493/  1119 ( 2.0%), avg 1246.8 eps/min   \n",
      "* noise mult = 0.0005\n",
      "10000\tAverage score:   0.000,        mem:  72439/  1119 ( 1.5%), avg 1258.3 eps/min;  0.1 hr rem   \n",
      "12000\tAverage score:   0.002,        mem: 100000/  1125 ( 1.1%), avg 1268.8 eps/min;  0.0 hr rem   \n",
      "14000\tAverage score:   0.000,        mem: 100000/  1125 ( 1.1%), avg 1278.1 eps/min;  0.0 hr rem   \n",
      "15000\tRunning avg/max: 0.000/0.000,  mem: 100000/  1125 ( 1.1%), avg 1280.0 eps/min   \n",
      "Avg/max time steps/episode = 14.7/107\n"
     ]
    },
    {
     "data": {
      "image/png": "[encoded data removed]",
      "text/plain": [
       "<Figure size 432x288 with 1 Axes>"
      ]
     },
     "metadata": {
      "needs_background": "light"
     },
     "output_type": "display_data"
    },
    {
     "name": "stdout",
     "output_type": "stream",
     "text": [
      "\n",
      "///// Beginning training set  M33.01  with:\n",
      "      Batch size       = 256\n",
      "      Buffer size      = 100000\n",
      "      Bad step prob    = 1.0000\n",
      "      Noise decay      = 0.999930\n",
      "      Noise scale      = 0.047\n",
      "      LR actor         = 0.000035\n",
      "      LR critic        = 0.000015\n",
      "      Learning every      91  time steps\n",
      "      Learn iterations =  2\n",
      "      Tau              = 0.00220\n",
      "      Seed             =  44939\n",
      "2000\tAverage score:   0.027,        mem:   1978/   417 (21.1%), avg 1.0 eps/min; ???   \n",
      "4000\tAverage score:   0.031,        mem:   3818/   836 (21.9%), avg 1.0 eps/min; ???   \n",
      "5300\tRunning avg/max: 0.018/0.200,  mem:   4999/  1089 (21.8%), avg 1.0 eps/min   \n",
      "* Replay buffer fully primed. Learning will commence.\n",
      "6000\tAverage score:   0.000,        mem:  15503/  1092 ( 7.0%), avg 989.7 eps/min;  0.2 hr rem   \n",
      "6073\tRunning avg/max: 0.000/0.000,  mem:  16540/  1092 ( 6.6%), avg 995.5 eps/min   \n",
      "* noise mult = 0.2\n",
      "8000\tAverage score:   0.000,        mem:  43903/  1092 ( 2.5%), avg 1037.4 eps/min;  0.1 hr rem   \n",
      "9102\tRunning avg/max: 0.000/0.000,  mem:  59551/  1092 ( 1.8%), avg 1048.0 eps/min   \n",
      "* noise mult = 0.0005\n",
      "10000\tAverage score:   0.000,        mem:  72303/  1092 ( 1.5%), avg 1047.6 eps/min;  0.1 hr rem   \n",
      "12000\tAverage score:   0.000,        mem: 100000/  1092 ( 1.1%), avg 1057.2 eps/min;  0.0 hr rem   \n",
      "14000\tAverage score:   0.000,        mem: 100000/  1092 ( 1.1%), avg 1052.0 eps/min;  0.0 hr rem   \n",
      "15000\tRunning avg/max: 0.000/0.000,  mem: 100000/  1092 ( 1.1%), avg 1050.2 eps/min   \n",
      "Avg/max time steps/episode = 14.7/99\n"
     ]
    },
    {
     "data": {
      "image/png": "[encoded data removed]",
      "text/plain": [
       "<Figure size 432x288 with 1 Axes>"
      ]
     },
     "metadata": {
      "needs_background": "light"
     },
     "output_type": "display_data"
    },
    {
     "name": "stdout",
     "output_type": "stream",
     "text": [
      "\n",
      "///// Beginning training set  M33.02  with:\n",
      "      Batch size       = 256\n",
      "      Buffer size      = 100000\n",
      "      Bad step prob    = 1.0000\n",
      "      Noise decay      = 0.999933\n",
      "      Noise scale      = 0.049\n",
      "      LR actor         = 0.000034\n",
      "      LR critic        = 0.000013\n",
      "      Learning every      97  time steps\n",
      "      Learn iterations =  2\n",
      "      Tau              = 0.00251\n",
      "      Seed             =  44939\n",
      "2000\tAverage score:   0.017,        mem:   1904/   366 (19.2%), avg 1.0 eps/min; ???   \n",
      "4000\tAverage score:   0.020,        mem:   3723/   775 (20.8%), avg 1.0 eps/min; ???   \n",
      "5290\tRunning avg/max: 0.032/0.200,  mem:   5000/  1079 (21.6%), avg 1.0 eps/min   \n",
      "* Replay buffer fully primed. Learning will commence.\n",
      "6000\tAverage score:   0.000,        mem:  15460/  1083 ( 7.0%), avg 1075.9 eps/min;  0.1 hr rem   \n",
      "6110\tRunning avg/max: 0.000/0.000,  mem:  17022/  1083 ( 6.4%), avg 1085.7 eps/min   \n",
      "* noise mult = 0.2\n",
      "8000\tAverage score:   0.000,        mem:  43860/  1083 ( 2.5%), avg 1099.0 eps/min;  0.1 hr rem   \n",
      "9262\tRunning avg/max: 0.000/0.000,  mem:  61780/  1083 ( 1.8%), avg 1108.8 eps/min   \n",
      "* noise mult = 0.0005\n",
      "10000\tAverage score:   0.011,        mem:  72919/  1105 ( 1.5%), avg 1104.4 eps/min;  0.1 hr rem   \n",
      "12000\tAverage score:   0.015,        mem: 100000/  1568 ( 1.6%), avg 955.3 eps/min;  0.1 hr rem   \n",
      "14000\tAverage score:   0.016,        mem: 100000/  1901 ( 1.9%), avg 918.6 eps/min;  0.0 hr rem   \n",
      "15000\tRunning avg/max: 0.000/0.000,  mem: 100000/  1934 ( 1.9%), avg 929.7 eps/min   \n",
      "Avg/max time steps/episode = 16.6/103\n"
     ]
    },
    {
     "data": {
      "image/png": "[encoded data removed]",
      "text/plain": [
       "<Figure size 432x288 with 1 Axes>"
      ]
     },
     "metadata": {
      "needs_background": "light"
     },
     "output_type": "display_data"
    },
    {
     "name": "stdout",
     "output_type": "stream",
     "text": [
      "\n",
      "///// Beginning training set  M33.03  with:\n",
      "      Batch size       = 128\n",
      "      Buffer size      = 100000\n",
      "      Bad step prob    = 1.0000\n",
      "      Noise decay      = 0.999926\n",
      "      Noise scale      = 0.037\n",
      "      LR actor         = 0.000045\n",
      "      LR critic        = 0.000013\n",
      "      Learning every      94  time steps\n",
      "      Learn iterations =  2\n",
      "      Tau              = 0.00188\n",
      "      Seed             =  44939\n",
      "2000\tAverage score:   0.021,        mem:   1917/   422 (22.0%), avg 1.0 eps/min; ???   \n",
      "4000\tAverage score:   0.027,        mem:   3791/   867 (22.9%), avg 1.0 eps/min; ???   \n",
      "5213\tRunning avg/max: 0.018/0.200,  mem:   4999/  1150 (23.0%), avg 1.0 eps/min   \n",
      "* Replay buffer fully primed. Learning will commence.\n",
      "5906\tRunning avg/max: 0.000/0.000,  mem:  15806/  1158 ( 7.3%), avg 1140.1 eps/min   \n",
      "* noise mult = 0.2\n",
      "6000\tAverage score:   0.000,        mem:  17147/  1158 ( 6.8%), avg 1154.9 eps/min;  0.1 hr rem   \n",
      "8000\tAverage score:   0.000,        mem:  47350/  1240 ( 2.6%), avg 1152.5 eps/min;  0.1 hr rem   \n",
      "8527\tRunning avg/max: 0.021/0.100,  mem:  56064/  1310 ( 2.3%), avg 1142.7 eps/min   \n",
      "* noise mult = 0.0005\n",
      "10000\tAverage score:   0.021,        mem:  85271/  1611 ( 1.9%), avg 1072.7 eps/min;  0.1 hr rem   \n",
      "12000\tAverage score:   0.003,        mem: 100000/  2133 ( 2.1%), avg 1030.1 eps/min;  0.0 hr rem   \n",
      "14000\tAverage score:   0.003,        mem: 100000/  2318 ( 2.3%), avg 1057.8 eps/min;  0.0 hr rem   \n",
      "15000\tRunning avg/max: 0.000/0.000,  mem: 100000/  2318 ( 2.3%), avg 1078.1 eps/min   \n",
      "Avg/max time steps/episode = 16.6/123\n"
     ]
    },
    {
     "data": {
      "image/png": "[encoded data removed]",
      "text/plain": [
       "<Figure size 432x288 with 1 Axes>"
      ]
     },
     "metadata": {
      "needs_background": "light"
     },
     "output_type": "display_data"
    },
    {
     "name": "stdout",
     "output_type": "stream",
     "text": [
      "\n",
      "///// Beginning training set  M33.04  with:\n",
      "      Batch size       = 64\n",
      "      Buffer size      = 100000\n",
      "      Bad step prob    = 1.0000\n",
      "      Noise decay      = 0.999932\n",
      "      Noise scale      = 0.037\n",
      "      LR actor         = 0.000042\n",
      "      LR critic        = 0.000011\n",
      "      Learning every      86  time steps\n",
      "      Learn iterations =  2\n",
      "      Tau              = 0.00184\n",
      "      Seed             =  44939\n",
      "2000\tAverage score:   0.026,        mem:   1925/   451 (23.4%), avg 1.0 eps/min; ???   \n",
      "4000\tAverage score:   0.024,        mem:   3838/   893 (23.3%), avg 1.0 eps/min; ???   \n",
      "5244\tRunning avg/max: 0.026/0.200,  mem:   5000/  1147 (22.9%), avg 1.0 eps/min   \n",
      "* Replay buffer fully primed. Learning will commence.\n",
      "6000\tAverage score:   0.000,        mem:  16121/  1150 ( 7.1%), avg 1212.1 eps/min;  0.1 hr rem   \n",
      "6050\tRunning avg/max: 0.000/0.000,  mem:  16831/  1150 ( 6.8%), avg 1216.6 eps/min   \n",
      "* noise mult = 0.2\n",
      "7440\tRunning avg/max: 0.000/0.000,  mem:  36569/  1150 ( 3.1%), avg 1245.1 eps/min   "
     ]
    },
    {
     "ename": "KeyboardInterrupt",
     "evalue": "",
     "output_type": "error",
     "traceback": [
      "\u001b[0;31m---------------------------------------------------------------------------\u001b[0m",
      "\u001b[0;31mKeyboardInterrupt\u001b[0m                         Traceback (most recent call last)",
      "\u001b[0;32m<ipython-input-3-50524aa5e583>\u001b[0m in \u001b[0;36m<module>\u001b[0;34m\u001b[0m\n\u001b[1;32m     86\u001b[0m         scores = train(maddpg, env, run_name=RUN_NAME, max_episodes=EPISODES, \n\u001b[1;32m     87\u001b[0m                        \u001b[0mwinning_score\u001b[0m\u001b[0;34m=\u001b[0m\u001b[0;36m0.5\u001b[0m\u001b[0;34m,\u001b[0m \u001b[0mmax_time_steps\u001b[0m\u001b[0;34m=\u001b[0m\u001b[0mTIME_STEPS\u001b[0m\u001b[0;34m,\u001b[0m\u001b[0;34m\u001b[0m\u001b[0;34m\u001b[0m\u001b[0m\n\u001b[0;32m---> 88\u001b[0;31m                        checkpoint_interval=2000)\n\u001b[0m\u001b[1;32m     89\u001b[0m \u001b[0;34m\u001b[0m\u001b[0m\n\u001b[1;32m     90\u001b[0m         \u001b[0;31m##### plot the training reward history\u001b[0m\u001b[0;34m\u001b[0m\u001b[0;34m\u001b[0m\u001b[0;34m\u001b[0m\u001b[0m\n",
      "\u001b[0;32m~/Udacity/ReinforcementLearning/repo/projects/tennis/train.py\u001b[0m in \u001b[0;36mtrain\u001b[0;34m(maddpg, env, run_name, starting_episode, max_episodes, max_time_steps, sleeping, winning_score, checkpoint_interval)\u001b[0m\n\u001b[1;32m     80\u001b[0m \u001b[0;34m\u001b[0m\u001b[0m\n\u001b[1;32m     81\u001b[0m             \u001b[0;31m# update the agents with this new info\u001b[0m\u001b[0;34m\u001b[0m\u001b[0;34m\u001b[0m\u001b[0;34m\u001b[0m\u001b[0m\n\u001b[0;32m---> 82\u001b[0;31m             \u001b[0mmaddpg\u001b[0m\u001b[0;34m.\u001b[0m\u001b[0mstep\u001b[0m\u001b[0;34m(\u001b[0m\u001b[0mstates\u001b[0m\u001b[0;34m,\u001b[0m \u001b[0mactions\u001b[0m\u001b[0;34m,\u001b[0m \u001b[0mrewards\u001b[0m\u001b[0;34m,\u001b[0m \u001b[0mnext_states\u001b[0m\u001b[0;34m,\u001b[0m \u001b[0mdones\u001b[0m\u001b[0;34m)\u001b[0m\u001b[0;34m\u001b[0m\u001b[0;34m\u001b[0m\u001b[0m\n\u001b[0m\u001b[1;32m     83\u001b[0m \u001b[0;34m\u001b[0m\u001b[0m\n\u001b[1;32m     84\u001b[0m             \u001b[0;31m# roll over new state and check for episode completion\u001b[0m\u001b[0;34m\u001b[0m\u001b[0;34m\u001b[0m\u001b[0;34m\u001b[0m\u001b[0m\n",
      "\u001b[0;32m~/Udacity/ReinforcementLearning/repo/projects/tennis/maddpg.py\u001b[0m in \u001b[0;36mstep\u001b[0;34m(self, obs, actions, rewards, next_obs, dones)\u001b[0m\n\u001b[1;32m    228\u001b[0m                 \u001b[0mself\u001b[0m\u001b[0;34m.\u001b[0m\u001b[0mlearn_control\u001b[0m \u001b[0;34m=\u001b[0m \u001b[0;36m0\u001b[0m\u001b[0;34m\u001b[0m\u001b[0;34m\u001b[0m\u001b[0m\n\u001b[1;32m    229\u001b[0m                 \u001b[0;32mfor\u001b[0m \u001b[0mj\u001b[0m \u001b[0;32min\u001b[0m \u001b[0mrange\u001b[0m\u001b[0;34m(\u001b[0m\u001b[0mself\u001b[0m\u001b[0;34m.\u001b[0m\u001b[0mlearn_iter\u001b[0m\u001b[0;34m)\u001b[0m\u001b[0;34m:\u001b[0m\u001b[0;34m\u001b[0m\u001b[0;34m\u001b[0m\u001b[0m\n\u001b[0;32m--> 230\u001b[0;31m                     \u001b[0mexperiences\u001b[0m \u001b[0;34m=\u001b[0m \u001b[0mself\u001b[0m\u001b[0;34m.\u001b[0m\u001b[0mmemory\u001b[0m\u001b[0;34m.\u001b[0m\u001b[0msample\u001b[0m\u001b[0;34m(\u001b[0m\u001b[0;34m)\u001b[0m\u001b[0;34m\u001b[0m\u001b[0;34m\u001b[0m\u001b[0m\n\u001b[0m\u001b[1;32m    231\u001b[0m                     \u001b[0mself\u001b[0m\u001b[0;34m.\u001b[0m\u001b[0mlearn\u001b[0m\u001b[0;34m(\u001b[0m\u001b[0mexperiences\u001b[0m\u001b[0;34m)\u001b[0m\u001b[0;34m\u001b[0m\u001b[0;34m\u001b[0m\u001b[0m\n\u001b[1;32m    232\u001b[0m \u001b[0;34m\u001b[0m\u001b[0m\n",
      "\u001b[0;32m~/Udacity/ReinforcementLearning/repo/projects/tennis/replay_buffer.py\u001b[0m in \u001b[0;36msample\u001b[0;34m(self)\u001b[0m\n\u001b[1;32m    121\u001b[0m                 \u001b[0;31m# incoming reward and done are lists, not tensors\u001b[0m\u001b[0;34m\u001b[0m\u001b[0;34m\u001b[0m\u001b[0;34m\u001b[0m\u001b[0m\n\u001b[1;32m    122\u001b[0m                 \u001b[0mrewards\u001b[0m\u001b[0;34m[\u001b[0m\u001b[0mi\u001b[0m\u001b[0;34m,\u001b[0m \u001b[0;34m:\u001b[0m\u001b[0;34m,\u001b[0m \u001b[0;34m:\u001b[0m\u001b[0;34m]\u001b[0m \u001b[0;34m=\u001b[0m \u001b[0mtorch\u001b[0m\u001b[0;34m.\u001b[0m\u001b[0mtensor\u001b[0m\u001b[0;34m(\u001b[0m\u001b[0me\u001b[0m\u001b[0;34m.\u001b[0m\u001b[0mreward\u001b[0m\u001b[0;34m)\u001b[0m\u001b[0;34m.\u001b[0m\u001b[0mview\u001b[0m\u001b[0;34m(\u001b[0m\u001b[0mnum_agents\u001b[0m\u001b[0;34m,\u001b[0m \u001b[0;34m-\u001b[0m\u001b[0;36m1\u001b[0m\u001b[0;34m)\u001b[0m\u001b[0;34m[\u001b[0m\u001b[0;34m:\u001b[0m\u001b[0;34m,\u001b[0m \u001b[0;34m:\u001b[0m\u001b[0;34m]\u001b[0m\u001b[0;34m\u001b[0m\u001b[0;34m\u001b[0m\u001b[0m\n\u001b[0;32m--> 123\u001b[0;31m                 \u001b[0mdones\u001b[0m\u001b[0;34m[\u001b[0m\u001b[0mi\u001b[0m\u001b[0;34m,\u001b[0m \u001b[0;34m:\u001b[0m\u001b[0;34m,\u001b[0m \u001b[0;34m:\u001b[0m\u001b[0;34m]\u001b[0m   \u001b[0;34m=\u001b[0m \u001b[0mtorch\u001b[0m\u001b[0;34m.\u001b[0m\u001b[0mtensor\u001b[0m\u001b[0;34m(\u001b[0m\u001b[0me\u001b[0m\u001b[0;34m.\u001b[0m\u001b[0mdone\u001b[0m\u001b[0;34m)\u001b[0m\u001b[0;34m.\u001b[0m\u001b[0mview\u001b[0m\u001b[0;34m(\u001b[0m\u001b[0mnum_agents\u001b[0m\u001b[0;34m,\u001b[0m \u001b[0;34m-\u001b[0m\u001b[0;36m1\u001b[0m\u001b[0;34m)\u001b[0m\u001b[0;34m[\u001b[0m\u001b[0;34m:\u001b[0m\u001b[0;34m,\u001b[0m \u001b[0;34m:\u001b[0m\u001b[0;34m]\u001b[0m\u001b[0;34m\u001b[0m\u001b[0;34m\u001b[0m\u001b[0m\n\u001b[0m\u001b[1;32m    124\u001b[0m \u001b[0;34m\u001b[0m\u001b[0m\n\u001b[1;32m    125\u001b[0m             \u001b[0;32mreturn\u001b[0m \u001b[0;34m(\u001b[0m\u001b[0mstates\u001b[0m\u001b[0;34m,\u001b[0m \u001b[0mactions\u001b[0m\u001b[0;34m,\u001b[0m \u001b[0mrewards\u001b[0m\u001b[0;34m,\u001b[0m \u001b[0mnext_states\u001b[0m\u001b[0;34m,\u001b[0m \u001b[0mdones\u001b[0m\u001b[0;34m)\u001b[0m\u001b[0;34m\u001b[0m\u001b[0;34m\u001b[0m\u001b[0m\n",
      "\u001b[0;31mKeyboardInterrupt\u001b[0m: "
     ]
    }
   ],
   "source": [
    "# This cell will explore several combinations of hyperparams by training all of them\n",
    "# Use a random search for the hyperparams\n",
    "\n",
    "EXPLORE = True\n",
    "\n",
    "TIME_STEPS         = 400\n",
    "SAVE_ANALYSIS      = False\n",
    "MODEL_DISPLAY_STEP = 0 #200k is approx 10k episodes at bad_step_prob = 0.01\n",
    "\n",
    "if EXPLORE:\n",
    "    \n",
    "    # fixed for the session:\n",
    "    RUN_PREFIX        = \"M33\"\n",
    "    EPISODES          = 15001\n",
    "    NUM_RUNS          = 30\n",
    "    BAD_STEP_PROB     = 1.0\n",
    "    BUFFER_PRIME_SIZE = 5000\n",
    "    WEIGHT_DECAY      = 0.0 #was 1.0e-5\n",
    "    GAMMA             = 0.99\n",
    "    SEED              = 44939 #(0, 111, 468, 5555, 23100, 44939)\n",
    "    \n",
    "    # session variables:\n",
    "    vars = [\n",
    "            [\"continuous-float\", 0.15,     0.23],     #BAD_STEP_PROB\n",
    "            [\"continuous-float\", 0.999924, 0.999936], #NOISE_DECAY\n",
    "            [\"continuous-float\", 0.036,    0.054],    #NOISE_SCALE\n",
    "            [\"continuous-float\", 0.000030, 0.000046], #LR_ACTOR\n",
    "            [\"continuous-float\", 0.000010, 0.000016], #LR_CRITIC\n",
    "            [\"continuous-int\",   75,       101],      #LEARN_EVERY\n",
    "            [\"continuous-int\",   2,        3],        #LEARN_ITER\n",
    "            [\"continuous-float\", 0.00174,  0.00262],  #TAU\n",
    "            [\"discrete\",         64, 128, 256]        #BATCH\n",
    "           ]\n",
    "    rs = RandomSampler(vars)\n",
    "    \n",
    "    print(\"Ready to train {} over {} training sets for {} episodes each, with fixed params:\"\n",
    "          .format(RUN_PREFIX, NUM_RUNS, EPISODES))\n",
    "    print(\"    Max episodes  = \", EPISODES)\n",
    "    print(\"    Weight decay  = \", WEIGHT_DECAY)\n",
    "    print(\"    Gamma         = \", GAMMA)\n",
    "    print(\"    Buf prime size= \", BUFFER_PRIME_SIZE)\n",
    "            \n",
    "    for set_id in range(NUM_RUNS):\n",
    "        \n",
    "        # sample the variables\n",
    "        v = rs.sample()\n",
    "        #BAD_STEP_PROB = v[0]\n",
    "        NOISE_DECAY   = v[1]\n",
    "        NOISE_SCALE   = v[2]\n",
    "        LR_ACTOR      = v[3]\n",
    "        LR_CRITIC     = v[4]\n",
    "        LEARN_EVERY   = v[5]\n",
    "        LEARN_ITER    = v[6]\n",
    "        TAU           = v[7]\n",
    "        BATCH         = v[8]\n",
    "\n",
    "        # set the replay buffer size to that it fills after ~5000 bad episodes\n",
    "        # (at ~14 experiences/episode), based on the bad step retention rate\n",
    "        #buffer_size = int(60000 - 50000*(1.0 - BAD_STEP_PROB))\n",
    "        buffer_size = 100000\n",
    "\n",
    "        RUN_NAME = \"{}.{:02d}\".format(RUN_PREFIX, set_id)\n",
    "        print(\"\\n///// Beginning training set \", RUN_NAME, \" with:\")\n",
    "        print(\"      Batch size       = {:d}\".format(BATCH))\n",
    "        print(\"      Buffer size      = {:d}\".format(buffer_size))\n",
    "        print(\"      Bad step prob    = {:.4f}\".format(BAD_STEP_PROB))\n",
    "        print(\"      Noise decay      = {:.6f}\".format(NOISE_DECAY))\n",
    "        print(\"      Noise scale      = {:.3f}\".format(NOISE_SCALE))\n",
    "        print(\"      LR actor         = {:.6f}\".format(LR_ACTOR))\n",
    "        print(\"      LR critic        = {:.6f}\".format(LR_CRITIC))\n",
    "        print(\"      Learning every     \", LEARN_EVERY, \" time steps\")\n",
    "        print(\"      Learn iterations = \", LEARN_ITER)\n",
    "        print(\"      Tau              = {:.5f}\".format(TAU))\n",
    "        print(\"      Seed             = \", SEED)\n",
    "\n",
    "        ##### instantiate the agents and perform the training\n",
    "\n",
    "        maddpg = Maddpg(state_size, action_size, 2, bad_step_prob=BAD_STEP_PROB,\n",
    "                        random_seed=SEED, batch_size=BATCH, buffer_size=buffer_size,\n",
    "                        noise_decay=NOISE_DECAY, buffer_prime_size=BUFFER_PRIME_SIZE,\n",
    "                        learn_every=LEARN_EVERY, \n",
    "                        learn_iter=LEARN_ITER, lr_actor=LR_ACTOR, lr_critic=LR_CRITIC,\n",
    "                        weight_decay=WEIGHT_DECAY, gamma=GAMMA, noise_scale=NOISE_SCALE,\n",
    "                        tau=TAU, model_display_step=MODEL_DISPLAY_STEP)\n",
    "\n",
    "        scores = train(maddpg, env, run_name=RUN_NAME, max_episodes=EPISODES, \n",
    "                       winning_score=0.5, max_time_steps=TIME_STEPS,\n",
    "                       checkpoint_interval=2000)\n",
    "\n",
    "        ##### plot the training reward history\n",
    "\n",
    "        fig = plt.figure()\n",
    "        ax = fig.add_subplot(111)\n",
    "        plt.plot(np.arange(len(scores)), scores)\n",
    "        plt.ylabel('Score')\n",
    "        plt.xlabel('Episode #')\n",
    "        plt.show()\n",
    "\n",
    "        ##### store the action/noise data, if being used\n",
    "\n",
    "        if SAVE_ANALYSIS:\n",
    "            maddpg.save_anal_data(RUN_PREFIX)\n",
    "\n",
    "                            \n",
    "    print(\"\\n\\nDONE!\")"
   ]
  },
  {
   "cell_type": "markdown",
   "metadata": {},
   "source": [
    "# HEY JOHN - TODO!\n",
    "\n",
    "- update main.py to match the above code {ALL CELLS}\n",
    "- Test running from cmd line (may need a script?)\n",
    "- Clean up the bottom part of this notebook"
   ]
  },
  {
   "cell_type": "code",
   "execution_count": null,
   "metadata": {},
   "outputs": [],
   "source": [
    "# load a pre-trained (or partially trained) model and run it in inference mode to watch it perform\n",
    "\n",
    "#m = Maddpg(24, 2, 2)\n",
    "#check = m.restore_checkpoint(\"checkpoint/\", \"TEST.00\", 20)"
   ]
  },
  {
   "cell_type": "markdown",
   "metadata": {},
   "source": [
    "### 3. Take Random Actions in the Environment\n",
    "\n",
    "In the next code cell, you will learn how to use the Python API to control the agents and receive feedback from the environment.\n",
    "\n",
    "Once this cell is executed, you will watch the agents' performance, if they select actions at random with each time step.  A window should pop up that allows you to observe the agents.\n",
    "\n",
    "Of course, as part of the project, you'll have to change the code so that the agents are able to use their experiences to gradually choose better actions when interacting with the environment!"
   ]
  },
  {
   "cell_type": "code",
   "execution_count": null,
   "metadata": {},
   "outputs": [],
   "source": [
    "\"\"\"\n",
    "for i in range(10):                                        # play game for several episodes\n",
    "    env_info = env.reset(train_mode=False)[brain_name]     # reset the environment    \n",
    "    states = env_info.vector_observations             3     # get the current state (for each agent)\n",
    "    scores = np.zeros(num_agents)                          # initialize the score (for each agent)\n",
    "    num_steps = 0\n",
    "    while True:\n",
    "        actions = np.random.randn(num_agents, action_size) # select an action (for each agent)\n",
    "        actions = np.clip(actions, -1, 1)                  # all actions between -1 and 1\n",
    "        env_info = env.step(actions)[brain_name]           # send all actions to tne environment\n",
    "        next_states = env_info.vector_observations         # get next state (for each agent)\n",
    "        rewards = env_info.rewards                         # get reward (for each agent)\n",
    "        dones = env_info.local_done                        # see if episode finished\n",
    "        scores += env_info.rewards                         # update the score (for each agent)\n",
    "        states = next_states                               # roll over states to next time step\n",
    "        num_steps += 1\n",
    "        if np.any(dones):                                  # exit loop if episode finished\n",
    "            break\n",
    "    print('Episode {}: {:5.3f}, took {} steps'.format(i, np.max(scores), num_steps))\n",
    "\"\"\""
   ]
  },
  {
   "cell_type": "markdown",
   "metadata": {},
   "source": [
    "When finished, you can close the environment."
   ]
  },
  {
   "cell_type": "code",
   "execution_count": null,
   "metadata": {},
   "outputs": [],
   "source": [
    "env.close()"
   ]
  },
  {
   "cell_type": "code",
   "execution_count": null,
   "metadata": {},
   "outputs": [],
   "source": []
  }
 ],
 "metadata": {
  "kernelspec": {
   "display_name": "drlnd",
   "language": "python",
   "name": "drlnd"
  },
  "language_info": {
   "codemirror_mode": {
    "name": "ipython",
    "version": 3
   },
   "file_extension": ".py",
   "mimetype": "text/x-python",
   "name": "python",
   "nbconvert_exporter": "python",
   "pygments_lexer": "ipython3",
   "version": "3.6.12"
  }
 },
 "nbformat": 4,
 "nbformat_minor": 2
}
