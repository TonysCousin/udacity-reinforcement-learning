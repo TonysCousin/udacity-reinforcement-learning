{
 "cells": [
  {
   "cell_type": "markdown",
   "metadata": {},
   "source": [
    "# Collaboration and Competition\n",
    "\n",
    "---\n",
    "\n",
    "This notebook runs John's solution for the third project of the [Deep Reinforcement Learning Nanodegree](https://www.udacity.com/course/deep-reinforcement-learning-nanodegree--nd893) program.  It uses the Unity ML-Agents environment to train two cooperative agents to play a tennis-like game.\n",
    "\n",
    "**Need more description here - refer to readme?**\n",
    "\n",
    "\n",
    "\n",
    "\n",
    "\n",
    "\n",
    "...\n"
   ]
  },
  {
   "cell_type": "markdown",
   "metadata": {},
   "source": [
    "This code depends upon a custom Unity environment provided by the Udacity staff that embodies the variation on tennis.  It will open a separate Unity window for visualizing the environment as the agents train or play.\n"
   ]
  },
  {
   "cell_type": "code",
   "execution_count": 1,
   "metadata": {},
   "outputs": [
    {
     "name": "stderr",
     "output_type": "stream",
     "text": [
      "INFO:unityagents:\n",
      "'Academy' started successfully!\n",
      "Unity Academy name: Academy\n",
      "        Number of Brains: 1\n",
      "        Number of External Brains : 1\n",
      "        Lesson number : 0\n",
      "        Reset Parameters :\n",
      "\t\t\n",
      "Unity brain name: TennisBrain\n",
      "        Number of Visual Observations (per agent): 0\n",
      "        Vector Observation space type: continuous\n",
      "        Vector Observation space size (per agent): 8\n",
      "        Number of stacked Vector Observation: 3\n",
      "        Vector Action space type: continuous\n",
      "        Vector Action space size (per agent): 2\n",
      "        Vector Action descriptions: , \n"
     ]
    }
   ],
   "source": [
    "import numpy as np\n",
    "import time\n",
    "import matplotlib.pyplot as plt\n",
    "from unityagents import UnityEnvironment\n",
    "from train import train\n",
    "from maddpg import Maddpg\n",
    "\n",
    "%matplotlib inline\n",
    "\n",
    "# create a new Unity environment\n",
    "# it needs to be done once, outside any loop, as closing an environment then restarting causes\n",
    "# a Unity exception about the handle no longer being active.\n",
    "env = UnityEnvironment(file_name=\"Tennis_Linux/Tennis.x86_64\", seed=0, \n",
    "                       no_graphics=True)\n",
    "brain_name = env.brain_names[0]\n",
    "brain = env.brains[brain_name]                       \n",
    "env_info = env.reset(train_mode=True)[brain_name]\n",
    "num_agents = len(env_info.agents)\n",
    "action_size = brain.vector_action_space_size\n",
    "states = env_info.vector_observations\n",
    "state_size = states.shape[1]\n"
   ]
  },
  {
   "cell_type": "markdown",
   "metadata": {},
   "source": [
    "## Train the agents\n",
    "\n",
    "The next cells will invoke the training program to create the agents.  All of the real code is in Python flat files in this project directory."
   ]
  },
  {
   "cell_type": "code",
   "execution_count": 2,
   "metadata": {},
   "outputs": [],
   "source": [
    "TRAIN = False\n",
    "EXPLORE = True"
   ]
  },
  {
   "cell_type": "code",
   "execution_count": null,
   "metadata": {
    "scrolled": true
   },
   "outputs": [
    {
     "name": "stdout",
     "output_type": "stream",
     "text": [
      "Ready to train over 4 training sets for 15001 episodes each\n",
      "\n",
      "///// Beginning training set  E14.01  with:\n",
      "      Bad step prob    =  0.01\n",
      "      Buffer size      =  20500\n",
      "      Batch size       =  1000\n",
      "      Seed             =  468\n",
      "      Learning every      1  time steps\n",
      "      Learn iterations =  2\n",
      "500\tAverage score:   0.003,        mem:   1074/    28 ( 2.6%), avg 667.9 eps/min;  0.4 hr rem   \n",
      "1000\tAverage score:   0.000,        mem:   1152/    30 ( 2.6%), avg 711.4 eps/min;  0.3 hr rem   \n",
      "1500\tAverage score:   0.000,        mem:   1216/    30 ( 2.5%), avg 753.9 eps/min;  0.3 hr rem   \n",
      "2000\tAverage score:   0.000,        mem:   1272/    30 ( 2.4%), avg 804.6 eps/min;  0.3 hr rem   \n",
      "2500\tAverage score:   0.000,        mem:   1362/    30 ( 2.2%), avg 783.3 eps/min;  0.3 hr rem   \n",
      "3000\tAverage score:   0.000,        mem:   1438/    30 ( 2.1%), avg 765.8 eps/min;  0.3 hr rem   \n",
      "3500\tAverage score:   0.000,        mem:   1515/    30 ( 2.0%), avg 766.4 eps/min;  0.3 hr rem   \n",
      "4000\tAverage score:   0.000,        mem:   1590/    30 ( 1.9%), avg 766.4 eps/min;  0.2 hr rem   \n",
      "4500\tAverage score:   0.000,        mem:   1663/    30 ( 1.8%), avg 768.2 eps/min;  0.2 hr rem   \n",
      "5000\tAverage score:   0.000,        mem:   1739/    30 ( 1.7%), avg 773.6 eps/min;  0.2 hr rem   \n",
      "5193\tRunning avg/max: 0.000/0.000,  mem:   1768/    30 ( 1.7%), avg 771.6 eps/min   "
     ]
    }
   ],
   "source": [
    "# This cell will explore several combinations of hyperparams by training all of them\n",
    "\n",
    "TIME_STEPS = 200\n",
    "SAVE_ANALYSIS = True\n",
    "\n",
    "if EXPLORE:\n",
    "    \n",
    "    EPISODES       = 15001\n",
    "    RUN_PREFIX     = \"E14\" #next E14\n",
    "    DECAY          = 0.9999\n",
    "    SEEDS          = (468, 44939) #(0, 111, 468, 5555, 23100, 44939)\n",
    "    BAD_STEP_PROBS = (0.01,)\n",
    "    BATCHES        = (1000,)\n",
    "    LEARN_EVERYS   = (1,)\n",
    "    LEARN_ITERS    = (2, 1)\n",
    "    \n",
    "    num_sets = len(BAD_STEP_PROBS) * len(BATCHES ) * len(SEEDS) * len(LEARN_EVERYS) * len(LEARN_ITERS)\n",
    "    print(\"Ready to train over {} training sets for {} episodes each\".format(num_sets, EPISODES))\n",
    "    set_id = 0\n",
    "    for BAD_STEP_PROB in BAD_STEP_PROBS:\n",
    "        for BATCH in BATCHES:\n",
    "            for SEED in SEEDS:\n",
    "                for LEARN_EVERY in LEARN_EVERYS:\n",
    "                    for LEARN_ITER in LEARN_ITERS:\n",
    "                        \n",
    "                        # set the replay buffer size to that it fills after ~5000 bad episodes\n",
    "                        # (at ~14 experiences/episode), based on the bad step retention rate\n",
    "                        buffer_size = int(70000 - 50000*(1.0 - BAD_STEP_PROB))\n",
    "                        \n",
    "                        set_id += 1\n",
    "                        RUN_NAME = \"{}.{:02d}\".format(RUN_PREFIX, set_id)\n",
    "                        print(\"\\n///// Beginning training set \", RUN_NAME, \" with:\")\n",
    "                        print(\"      Bad step prob    = \", BAD_STEP_PROB)\n",
    "                        print(\"      Buffer size      = \", buffer_size)\n",
    "                        print(\"      Batch size       = \", BATCH)\n",
    "                        print(\"      Seed             = \", SEED)\n",
    "                        print(\"      Learning every     \", LEARN_EVERY, \" time steps\")\n",
    "                        print(\"      Learn iterations = \", LEARN_ITER)\n",
    "    \n",
    "                        ##### instantiate the agents and perform the training\n",
    "\n",
    "                        maddpg = Maddpg(state_size, action_size, 2, bad_step_prob=BAD_STEP_PROB,\n",
    "                                        random_seed=SEED, batch_size=BATCH, buffer_size=buffer_size,\n",
    "                                        noise_decay=DECAY, learn_every=LEARN_EVERY, learn_iter=LEARN_ITER)\n",
    "\n",
    "                        scores = train(maddpg, env, run_name=RUN_NAME, max_episodes=EPISODES, \n",
    "                                       winning_score=0.5, max_time_steps=TIME_STEPS,\n",
    "                                       checkpoint_interval=500)\n",
    "\n",
    "                        ##### plot the training reward history\n",
    "\n",
    "                        fig = plt.figure()\n",
    "                        ax = fig.add_subplot(111)\n",
    "                        plt.plot(np.arange(len(scores)), scores)\n",
    "                        plt.ylabel('Score')\n",
    "                        plt.xlabel('Episode #')\n",
    "                        plt.show()\n",
    "                        \n",
    "                        ##### store the action/noise data, if being used\n",
    "                        \n",
    "                        if SAVE_ANALYSIS:\n",
    "                            maddpg.save_anal_data()\n",
    "                        \n",
    "    print(\"\\n\\nDONE!\")"
   ]
  },
  {
   "cell_type": "markdown",
   "metadata": {},
   "source": [
    "# HEY JOHN - TODO!\n",
    "\n",
    "- update main.py to match the above code {ALL CELLS}\n",
    "- Test running from cmd line (may need a script?)\n",
    "- Clean up the bottom part of this notebook"
   ]
  },
  {
   "cell_type": "code",
   "execution_count": null,
   "metadata": {},
   "outputs": [],
   "source": []
  },
  {
   "cell_type": "markdown",
   "metadata": {},
   "source": [
    "### 3. Take Random Actions in the Environment\n",
    "\n",
    "In the next code cell, you will learn how to use the Python API to control the agents and receive feedback from the environment.\n",
    "\n",
    "Once this cell is executed, you will watch the agents' performance, if they select actions at random with each time step.  A window should pop up that allows you to observe the agents.\n",
    "\n",
    "Of course, as part of the project, you'll have to change the code so that the agents are able to use their experiences to gradually choose better actions when interacting with the environment!"
   ]
  },
  {
   "cell_type": "code",
   "execution_count": null,
   "metadata": {},
   "outputs": [],
   "source": [
    "\"\"\"\n",
    "for i in range(10):                                        # play game for several episodes\n",
    "    env_info = env.reset(train_mode=False)[brain_name]     # reset the environment    \n",
    "    states = env_info.vector_observations             3     # get the current state (for each agent)\n",
    "    scores = np.zeros(num_agents)                          # initialize the score (for each agent)\n",
    "    num_steps = 0\n",
    "    while True:\n",
    "        actions = np.random.randn(num_agents, action_size) # select an action (for each agent)\n",
    "        actions = np.clip(actions, -1, 1)                  # all actions between -1 and 1\n",
    "        env_info = env.step(actions)[brain_name]           # send all actions to tne environment\n",
    "        next_states = env_info.vector_observations         # get next state (for each agent)\n",
    "        rewards = env_info.rewards                         # get reward (for each agent)\n",
    "        dones = env_info.local_done                        # see if episode finished\n",
    "        scores += env_info.rewards                         # update the score (for each agent)\n",
    "        states = next_states                               # roll over states to next time step\n",
    "        num_steps += 1\n",
    "        if np.any(dones):                                  # exit loop if episode finished\n",
    "            break\n",
    "    print('Episode {}: {:5.3f}, took {} steps'.format(i, np.max(scores), num_steps))\n",
    "\"\"\""
   ]
  },
  {
   "cell_type": "markdown",
   "metadata": {},
   "source": [
    "When finished, you can close the environment."
   ]
  },
  {
   "cell_type": "code",
   "execution_count": null,
   "metadata": {},
   "outputs": [],
   "source": [
    "env.close()"
   ]
  },
  {
   "cell_type": "code",
   "execution_count": null,
   "metadata": {},
   "outputs": [],
   "source": []
  }
 ],
 "metadata": {
  "kernelspec": {
   "display_name": "drlnd",
   "language": "python",
   "name": "drlnd"
  },
  "language_info": {
   "codemirror_mode": {
    "name": "ipython",
    "version": 3
   },
   "file_extension": ".py",
   "mimetype": "text/x-python",
   "name": "python",
   "nbconvert_exporter": "python",
   "pygments_lexer": "ipython3",
   "version": "3.6.12"
  }
 },
 "nbformat": 4,
 "nbformat_minor": 2
}
