{
 "cells": [
  {
   "cell_type": "markdown",
   "metadata": {},
   "source": [
    "# Collaboration and Competition\n",
    "\n",
    "---\n",
    "\n",
    "This notebook runs John's solution for the third project of the [Deep Reinforcement Learning Nanodegree](https://www.udacity.com/course/deep-reinforcement-learning-nanodegree--nd893) program.  It uses the Unity ML-Agents environment to train two cooperative agents to play a tennis-like game.\n",
    "\n",
    "**Need more description here - refer to readme?**\n",
    "\n",
    "\n",
    "\n",
    "\n",
    "\n",
    "\n",
    "...\n"
   ]
  },
  {
   "cell_type": "markdown",
   "metadata": {},
   "source": [
    "This code depends upon a custom Unity environment provided by the Udacity staff that embodies the variation on tennis.  It will open a separate Unity window for visualizing the environment as the agents train or play.\n"
   ]
  },
  {
   "cell_type": "code",
   "execution_count": 1,
   "metadata": {
    "scrolled": true
   },
   "outputs": [
    {
     "name": "stderr",
     "output_type": "stream",
     "text": [
      "INFO:unityagents:\n",
      "'Academy' started successfully!\n",
      "Unity Academy name: Academy\n",
      "        Number of Brains: 1\n",
      "        Number of External Brains : 1\n",
      "        Lesson number : 0\n",
      "        Reset Parameters :\n",
      "\t\t\n",
      "Unity brain name: TennisBrain\n",
      "        Number of Visual Observations (per agent): 0\n",
      "        Vector Observation space type: continuous\n",
      "        Vector Observation space size (per agent): 8\n",
      "        Number of stacked Vector Observation: 3\n",
      "        Vector Action space type: continuous\n",
      "        Vector Action space size (per agent): 2\n",
      "        Vector Action descriptions: , \n"
     ]
    }
   ],
   "source": [
    "from unityagents import UnityEnvironment\n",
    "\n",
    "env = UnityEnvironment(file_name=\"Tennis_Linux/Tennis.x86_64\")\n",
    "\n",
    "# get the default brain\n",
    "brain_name = env.brain_names[0]\n",
    "brain = env.brains[brain_name]"
   ]
  },
  {
   "cell_type": "markdown",
   "metadata": {},
   "source": [
    "The next cell simply prints some verification info about the environment."
   ]
  },
  {
   "cell_type": "code",
   "execution_count": 2,
   "metadata": {},
   "outputs": [
    {
     "name": "stdout",
     "output_type": "stream",
     "text": [
      "Number of agents: 2\n",
      "Size of each action: 2\n",
      "There are 2 agents. Each observes a state with length: 24\n",
      "The state for the first agent looks like: [ 0.          0.          0.          0.          0.          0.\n",
      "  0.          0.          0.          0.          0.          0.\n",
      "  0.          0.          0.          0.         -6.65278625 -1.5\n",
      " -0.          0.          6.83172083  6.         -0.          0.        ]\n"
     ]
    }
   ],
   "source": [
    "# reset the environment\n",
    "env_info = env.reset(train_mode=True)[brain_name]\n",
    "\n",
    "# number of agents \n",
    "num_agents = len(env_info.agents)\n",
    "print('Number of agents:', num_agents)\n",
    "\n",
    "# size of each action\n",
    "action_size = brain.vector_action_space_size\n",
    "print('Size of each action:', action_size)\n",
    "\n",
    "# examine the state space \n",
    "states = env_info.vector_observations\n",
    "state_size = states.shape[1]\n",
    "print('There are {} agents. Each observes a state with length: {}'.format(states.shape[0], state_size))\n",
    "print('The state for the first agent looks like:', states[0])"
   ]
  },
  {
   "cell_type": "markdown",
   "metadata": {},
   "source": [
    "## Train the agents\n",
    "\n",
    "The next cells will invoke the training program to create the agents.  All of the real code is in Python flat files in this project directory."
   ]
  },
  {
   "cell_type": "code",
   "execution_count": 3,
   "metadata": {},
   "outputs": [],
   "source": [
    "TRAIN = False\n",
    "EXPLORE = True"
   ]
  },
  {
   "cell_type": "code",
   "execution_count": 4,
   "metadata": {},
   "outputs": [],
   "source": [
    "import numpy as np\n",
    "import matplotlib.pyplot as plt\n",
    "from train import train\n",
    "from maddpg import Maddpg\n",
    "\n",
    "%matplotlib inline\n",
    "\n",
    "if TRAIN:\n",
    "    \n",
    "    ##### set up key hyperparams\n",
    "\n",
    "    EPISODES          = 8000\n",
    "    RUN_NAME          = '02' #used for config control & naming of checpoint files\n",
    "    SEED              = 111\n",
    "    BATCH             = 1000\n",
    "    TIME_STEPS        = 500\n",
    "    DECAY             = 0.9999\n",
    "    LEARN_EVERY       = 10\n",
    "    LEARN_ITER        = 4\n",
    "\n",
    "    ##### instantiate the agents and perform the training\n",
    "\n",
    "    player_a = DdpgAgent(state_size, action_size, random_seed=SEED, batch_size=BATCH, noise_decay=DECAY, \n",
    "                         learn_every=LEARN_EVERY, learn_iter=LEARN_ITER)\n",
    "    player_b = DdpgAgent(state_size, action_size, random_seed=SEED, batch_size=BATCH, noise_decay=DECAY, \n",
    "                         learn_every=LEARN_EVERY, learn_iter=LEARN_ITER)\n",
    "\n",
    "    scores = train(player_a, player_b, env, run_name=RUN_NAME, max_episodes=EPISODES, \n",
    "                   winning_score=0.5, max_time_steps=TIME_STEPS)\n",
    "\n",
    "    ##### plot the training reward history\n",
    "\n",
    "    fig = plt.figure()\n",
    "    ax = fig.add_subplot(111)\n",
    "    plt.plot(np.arange(len(scores)), scores)\n",
    "    plt.ylabel('Score')\n",
    "    plt.xlabel('Episode #')\n",
    "    plt.show()"
   ]
  },
  {
   "cell_type": "code",
   "execution_count": 5,
   "metadata": {
    "scrolled": false
   },
   "outputs": [
    {
     "name": "stdout",
     "output_type": "stream",
     "text": [
      "Ready to train over 1 training sets\n",
      "\n",
      "///// Beginning training set  E08.01  with:\n",
      "      Seed             =  0\n",
      "      Batch size       =  2\n",
      "      Time steps       =  200\n",
      "      Learning every      1  time steps\n",
      "      Learn iterations =  1\n",
      "maddpg.step: obs =  [[ 0.          0.          0.          0.          0.          0.\n",
      "   0.          0.          0.          0.          0.          0.\n",
      "   0.          0.          0.          0.         -6.69487906 -1.5\n",
      "  -0.          0.          6.83172083  5.98822832 -0.          0.        ]\n",
      " [ 0.          0.          0.          0.          0.          0.\n",
      "   0.          0.          0.          0.          0.          0.\n",
      "   0.          0.          0.          0.         -6.99633169 -1.5\n",
      "   0.          0.         -6.83172083  5.98822832  0.          0.        ]]\n",
      "             actions =  [[0.02416853 0.00740055]\n",
      " [0.03232199 0.0279143 ]]\n",
      "             rewards =  [0.0, 0.0]\n",
      "maddpg.step: obs =  [[ 0.          0.          0.          0.          0.          0.\n",
      "   0.          0.         -6.69487906 -1.5        -0.          0.\n",
      "   6.83172083  5.98822832 -0.          0.         -6.62237358 -1.55886006\n",
      "   0.72505605 -0.98100001  6.83172083  5.89012814  0.72505605 -0.98100001]\n",
      " [ 0.          0.          0.          0.          0.          0.\n",
      "   0.          0.         -6.99633169 -1.5         0.          0.\n",
      "  -6.83172083  5.98822832  0.          0.         -6.89936686 -1.55886006\n",
      "   0.96965981 -0.98100001 -6.83172083  5.89012814  0.96965981 -0.98100001]]\n",
      "             actions =  [[0.00375533 0.00469829]\n",
      " [0.0568833  0.01270618]]\n",
      "             rewards =  [0.0, 0.0]\n",
      "maddpg.step: obs =  [[-6.69487906 -1.5        -0.          0.          6.83172083  5.98822832\n",
      "  -0.          0.         -6.62237358 -1.55886006  0.72505605 -0.98100001\n",
      "   6.83172083  5.89012814  0.72505605 -0.98100001 -6.6111083  -1.71581995\n",
      "   0.11265989 -1.96200001  6.83172083  5.69392824  0.11265989 -1.96200001]\n",
      " [-6.99633169 -1.5         0.          0.         -6.83172083  5.98822832\n",
      "   0.          0.         -6.89936686 -1.55886006  0.96965981 -0.98100001\n",
      "  -6.83172083  5.89012814  0.96965981 -0.98100001 -6.72871637 -1.71581995\n",
      "   1.70649898 -1.96200001 -6.83172083  5.69392824  1.70649898 -1.96200001]]\n",
      "             actions =  [[ 0.00730099 -0.01182339]\n",
      " [ 0.03465793  0.02385883]]\n",
      "             rewards =  [0.0, 0.0]\n",
      "learn: experiences =\n",
      " (tensor([[ 0.0000,  0.0000,  0.0000,  0.0000,  0.0000,  0.0000,  0.0000,\n",
      "          0.0000, -6.6949, -1.5000, -0.0000,  0.0000,  6.8317,  5.9882,\n",
      "         -0.0000,  0.0000, -6.6224, -1.5589,  0.7251, -0.9810,  6.8317,\n",
      "          5.8901,  0.7251, -0.9810],\n",
      "        [ 0.0000,  0.0000,  0.0000,  0.0000,  0.0000,  0.0000,  0.0000,\n",
      "          0.0000, -6.9963, -1.5000,  0.0000,  0.0000, -6.8317,  5.9882,\n",
      "          0.0000,  0.0000, -6.8994, -1.5589,  0.9697, -0.9810, -6.8317,\n",
      "          5.8901,  0.9697, -0.9810],\n",
      "        [-6.6949, -1.5000, -0.0000,  0.0000,  6.8317,  5.9882, -0.0000,\n",
      "          0.0000, -6.6224, -1.5589,  0.7251, -0.9810,  6.8317,  5.8901,\n",
      "          0.7251, -0.9810, -6.6111, -1.7158,  0.1127, -1.9620,  6.8317,\n",
      "          5.6939,  0.1127, -1.9620],\n",
      "        [-6.9963, -1.5000,  0.0000,  0.0000, -6.8317,  5.9882,  0.0000,\n",
      "          0.0000, -6.8994, -1.5589,  0.9697, -0.9810, -6.8317,  5.8901,\n",
      "          0.9697, -0.9810, -6.7287, -1.7158,  1.7065, -1.9620, -6.8317,\n",
      "          5.6939,  1.7065, -1.9620]]), tensor(1.00000e-02 *\n",
      "       [[ 0.3755,  0.4698],\n",
      "        [ 5.6883,  1.2706],\n",
      "        [ 0.7301, -1.1823],\n",
      "        [ 3.4658,  2.3859]]), tensor([[ 0.,  0.],\n",
      "        [ 0.,  0.]]), tensor([[-6.6949, -1.5000, -0.0000,  0.0000,  6.8317,  5.9882, -0.0000,\n",
      "          0.0000, -6.6224, -1.5589,  0.7251, -0.9810,  6.8317,  5.8901,\n",
      "          0.7251, -0.9810, -6.6111, -1.7158,  0.1127, -1.9620,  6.8317,\n",
      "          5.6939,  0.1127, -1.9620],\n",
      "        [-6.9963, -1.5000,  0.0000,  0.0000, -6.8317,  5.9882,  0.0000,\n",
      "          0.0000, -6.8994, -1.5589,  0.9697, -0.9810, -6.8317,  5.8901,\n",
      "          0.9697, -0.9810, -6.7287, -1.7158,  1.7065, -1.9620, -6.8317,\n",
      "          5.6939,  1.7065, -1.9620],\n",
      "        [-6.6224, -1.5589,  0.7251, -0.9810,  6.8317,  5.8901,  0.7251,\n",
      "         -0.9810, -6.6111, -1.7158,  0.1127, -1.9620,  6.8317,  5.6939,\n",
      "          0.1127, -1.9620, -6.5892, -1.8524,  0.2190,  0.0000,  6.8317,\n",
      "          5.3996,  0.2190,  0.0000],\n",
      "        [-6.8994, -1.5589,  0.9697, -0.9810, -6.8317,  5.8901,  0.9697,\n",
      "         -0.9810, -6.7287, -1.7158,  1.7065, -1.9620, -6.8317,  5.6939,\n",
      "          1.7065, -1.9620, -6.6247, -1.8524,  1.0397,  0.0000, -6.8317,\n",
      "          5.3996,  1.0397,  0.0000]]), tensor([[ 0.,  0.],\n",
      "        [ 0.,  0.]]))\n",
      "learn: obs =  torch.Size([4, 24])\n",
      "       rewards =  tensor([[ 0.,  0.],\n",
      "        [ 0.,  0.]]) torch.Size([2, 2])\n",
      "       next_obs =  tensor([[-6.6949, -1.5000, -0.0000,  0.0000,  6.8317,  5.9882, -0.0000,\n",
      "          0.0000, -6.6224, -1.5589,  0.7251, -0.9810,  6.8317,  5.8901,\n",
      "          0.7251, -0.9810, -6.6111, -1.7158,  0.1127, -1.9620,  6.8317,\n",
      "          5.6939,  0.1127, -1.9620],\n",
      "        [-6.9963, -1.5000,  0.0000,  0.0000, -6.8317,  5.9882,  0.0000,\n",
      "          0.0000, -6.8994, -1.5589,  0.9697, -0.9810, -6.8317,  5.8901,\n",
      "          0.9697, -0.9810, -6.7287, -1.7158,  1.7065, -1.9620, -6.8317,\n",
      "          5.6939,  1.7065, -1.9620],\n",
      "        [-6.6224, -1.5589,  0.7251, -0.9810,  6.8317,  5.8901,  0.7251,\n",
      "         -0.9810, -6.6111, -1.7158,  0.1127, -1.9620,  6.8317,  5.6939,\n",
      "          0.1127, -1.9620, -6.5892, -1.8524,  0.2190,  0.0000,  6.8317,\n",
      "          5.3996,  0.2190,  0.0000],\n",
      "        [-6.8994, -1.5589,  0.9697, -0.9810, -6.8317,  5.8901,  0.9697,\n",
      "         -0.9810, -6.7287, -1.7158,  1.7065, -1.9620, -6.8317,  5.6939,\n",
      "          1.7065, -1.9620, -6.6247, -1.8524,  1.0397,  0.0000, -6.8317,\n",
      "          5.3996,  1.0397,  0.0000]])\n",
      "       dones =  tensor([[ 0.,  0.],\n",
      "        [ 0.,  0.]]) torch.Size([2, 2])\n",
      "       actions =  tensor(1.00000e-02 *\n",
      "       [[ 0.3755,  0.4698],\n",
      "        [ 5.6883,  1.2706],\n",
      "        [ 0.7301, -1.1823],\n",
      "        [ 3.4658,  2.3859]])\n",
      "       NOTE: actions don't get split out!\n",
      "learn: states =  (tensor([[ 0.0000,  0.0000,  0.0000,  0.0000,  0.0000,  0.0000,  0.0000,\n",
      "          0.0000, -6.6949, -1.5000, -0.0000,  0.0000],\n",
      "        [ 0.0000,  0.0000,  0.0000,  0.0000,  0.0000,  0.0000,  0.0000,\n",
      "          0.0000, -6.9963, -1.5000,  0.0000,  0.0000],\n",
      "        [-6.6949, -1.5000, -0.0000,  0.0000,  6.8317,  5.9882, -0.0000,\n",
      "          0.0000, -6.6224, -1.5589,  0.7251, -0.9810],\n",
      "        [-6.9963, -1.5000,  0.0000,  0.0000, -6.8317,  5.9882,  0.0000,\n",
      "          0.0000, -6.8994, -1.5589,  0.9697, -0.9810]]), tensor([[ 6.8317,  5.9882, -0.0000,  0.0000, -6.6224, -1.5589,  0.7251,\n",
      "         -0.9810,  6.8317,  5.8901,  0.7251, -0.9810],\n",
      "        [-6.8317,  5.9882,  0.0000,  0.0000, -6.8994, -1.5589,  0.9697,\n",
      "         -0.9810, -6.8317,  5.8901,  0.9697, -0.9810],\n",
      "        [ 6.8317,  5.8901,  0.7251, -0.9810, -6.6111, -1.7158,  0.1127,\n",
      "         -1.9620,  6.8317,  5.6939,  0.1127, -1.9620],\n",
      "        [-6.8317,  5.8901,  0.9697, -0.9810, -6.7287, -1.7158,  1.7065,\n",
      "         -1.9620, -6.8317,  5.6939,  1.7065, -1.9620]]))\n"
     ]
    },
    {
     "ename": "TypeError",
     "evalue": "reshape(): argument 'shape' (position 1) must be tuple of ints, not Tensor",
     "output_type": "error",
     "traceback": [
      "\u001b[0;31m---------------------------------------------------------------------------\u001b[0m",
      "\u001b[0;31mTypeError\u001b[0m                                 Traceback (most recent call last)",
      "\u001b[0;32m<ipython-input-5-8b6ab02ced08>\u001b[0m in \u001b[0;36m<module>\u001b[0;34m\u001b[0m\n\u001b[1;32m     36\u001b[0m \u001b[0;34m\u001b[0m\u001b[0m\n\u001b[1;32m     37\u001b[0m                         scores = train(maddpg, env, run_name=RUN_NAME, max_episodes=EPISODES, \n\u001b[0;32m---> 38\u001b[0;31m                                        winning_score=0.5, max_time_steps=TIME_STEPS)\n\u001b[0m\u001b[1;32m     39\u001b[0m \u001b[0;34m\u001b[0m\u001b[0m\n\u001b[1;32m     40\u001b[0m                         \u001b[0;31m##### plot the training reward history\u001b[0m\u001b[0;34m\u001b[0m\u001b[0;34m\u001b[0m\u001b[0;34m\u001b[0m\u001b[0m\n",
      "\u001b[0;32m~/Udacity/ReinforcementLearning/repo/projects/tennis/train.py\u001b[0m in \u001b[0;36mtrain\u001b[0;34m(maddpg, env, run_name, starting_episode, max_episodes, max_time_steps, sleeping, winning_score, checkpoint_interval)\u001b[0m\n\u001b[1;32m     90\u001b[0m \u001b[0;34m\u001b[0m\u001b[0m\n\u001b[1;32m     91\u001b[0m             \u001b[0;31m# update the agents with this new info\u001b[0m\u001b[0;34m\u001b[0m\u001b[0;34m\u001b[0m\u001b[0;34m\u001b[0m\u001b[0m\n\u001b[0;32m---> 92\u001b[0;31m             \u001b[0mmaddpg\u001b[0m\u001b[0;34m.\u001b[0m\u001b[0mstep\u001b[0m\u001b[0;34m(\u001b[0m\u001b[0mstates\u001b[0m\u001b[0;34m,\u001b[0m \u001b[0mactions\u001b[0m\u001b[0;34m,\u001b[0m \u001b[0mrewards\u001b[0m\u001b[0;34m,\u001b[0m \u001b[0mnext_states\u001b[0m\u001b[0;34m,\u001b[0m \u001b[0mdones\u001b[0m\u001b[0;34m)\u001b[0m\u001b[0;34m\u001b[0m\u001b[0;34m\u001b[0m\u001b[0m\n\u001b[0m\u001b[1;32m     93\u001b[0m \u001b[0;34m\u001b[0m\u001b[0m\n\u001b[1;32m     94\u001b[0m             \u001b[0;31m# roll over new state and check for episode completion\u001b[0m\u001b[0;34m\u001b[0m\u001b[0;34m\u001b[0m\u001b[0;34m\u001b[0m\u001b[0m\n",
      "\u001b[0;32m~/Udacity/ReinforcementLearning/repo/projects/tennis/maddpg.py\u001b[0m in \u001b[0;36mstep\u001b[0;34m(self, obs, actions, rewards, next_obs, dones)\u001b[0m\n\u001b[1;32m     98\u001b[0m         \u001b[0;31m# advance each agent\u001b[0m\u001b[0;34m\u001b[0m\u001b[0;34m\u001b[0m\u001b[0;34m\u001b[0m\u001b[0m\n\u001b[1;32m     99\u001b[0m         \u001b[0;32mfor\u001b[0m \u001b[0mi\u001b[0m\u001b[0;34m,\u001b[0m \u001b[0ma\u001b[0m \u001b[0;32min\u001b[0m \u001b[0menumerate\u001b[0m\u001b[0;34m(\u001b[0m\u001b[0mself\u001b[0m\u001b[0;34m.\u001b[0m\u001b[0magents\u001b[0m\u001b[0;34m)\u001b[0m\u001b[0;34m:\u001b[0m\u001b[0;34m\u001b[0m\u001b[0;34m\u001b[0m\u001b[0m\n\u001b[0;32m--> 100\u001b[0;31m             \u001b[0ma\u001b[0m\u001b[0;34m.\u001b[0m\u001b[0mstep\u001b[0m\u001b[0;34m(\u001b[0m\u001b[0mi\u001b[0m\u001b[0;34m)\u001b[0m\u001b[0;34m\u001b[0m\u001b[0;34m\u001b[0m\u001b[0m\n\u001b[0m\u001b[1;32m    101\u001b[0m \u001b[0;34m\u001b[0m\u001b[0m\n",
      "\u001b[0;32m~/Udacity/ReinforcementLearning/repo/projects/tennis/maddpg_agent.py\u001b[0m in \u001b[0;36mstep\u001b[0;34m(self, agent_id)\u001b[0m\n\u001b[1;32m    102\u001b[0m             \u001b[0;32mfor\u001b[0m \u001b[0mj\u001b[0m \u001b[0;32min\u001b[0m \u001b[0mrange\u001b[0m\u001b[0;34m(\u001b[0m\u001b[0mself\u001b[0m\u001b[0;34m.\u001b[0m\u001b[0mlearn_iterations\u001b[0m\u001b[0;34m)\u001b[0m\u001b[0;34m:\u001b[0m\u001b[0;34m\u001b[0m\u001b[0;34m\u001b[0m\u001b[0m\n\u001b[1;32m    103\u001b[0m                 \u001b[0mexperiences\u001b[0m \u001b[0;34m=\u001b[0m \u001b[0mself\u001b[0m\u001b[0;34m.\u001b[0m\u001b[0mmemory\u001b[0m\u001b[0;34m.\u001b[0m\u001b[0msample\u001b[0m\u001b[0;34m(\u001b[0m\u001b[0;34m)\u001b[0m\u001b[0;34m\u001b[0m\u001b[0;34m\u001b[0m\u001b[0m\n\u001b[0;32m--> 104\u001b[0;31m                 \u001b[0mself\u001b[0m\u001b[0;34m.\u001b[0m\u001b[0mlearn\u001b[0m\u001b[0;34m(\u001b[0m\u001b[0mexperiences\u001b[0m\u001b[0;34m,\u001b[0m \u001b[0mGAMMA\u001b[0m\u001b[0;34m,\u001b[0m \u001b[0magent_id\u001b[0m\u001b[0;34m)\u001b[0m\u001b[0;34m\u001b[0m\u001b[0;34m\u001b[0m\u001b[0m\n\u001b[0m\u001b[1;32m    105\u001b[0m \u001b[0;34m\u001b[0m\u001b[0m\n\u001b[1;32m    106\u001b[0m \u001b[0;34m\u001b[0m\u001b[0m\n",
      "\u001b[0;32m~/Udacity/ReinforcementLearning/repo/projects/tennis/maddpg_agent.py\u001b[0m in \u001b[0;36mlearn\u001b[0;34m(self, experiences, gamma, agent_id)\u001b[0m\n\u001b[1;32m    161\u001b[0m \u001b[0;34m\u001b[0m\u001b[0m\n\u001b[1;32m    162\u001b[0m         \u001b[0;31m# split out the rewards and dones for each actor from their tensors\u001b[0m\u001b[0;34m\u001b[0m\u001b[0;34m\u001b[0m\u001b[0;34m\u001b[0m\u001b[0m\n\u001b[0;32m--> 163\u001b[0;31m         \u001b[0mreward\u001b[0m \u001b[0;34m=\u001b[0m \u001b[0mrewards\u001b[0m\u001b[0;34m[\u001b[0m\u001b[0;34m:\u001b[0m\u001b[0;34m,\u001b[0m \u001b[0magent_id\u001b[0m\u001b[0;34m]\u001b[0m\u001b[0;34m.\u001b[0m\u001b[0mreshape\u001b[0m\u001b[0;34m(\u001b[0m\u001b[0mrewards\u001b[0m\u001b[0;34m[\u001b[0m\u001b[0;36m0\u001b[0m\u001b[0;34m]\u001b[0m\u001b[0;34m,\u001b[0m \u001b[0;36m1\u001b[0m\u001b[0;34m)\u001b[0m\u001b[0;34m\u001b[0m\u001b[0;34m\u001b[0m\u001b[0m\n\u001b[0m\u001b[1;32m    164\u001b[0m         \u001b[0mdone\u001b[0m \u001b[0;34m=\u001b[0m \u001b[0mdones\u001b[0m\u001b[0;34m[\u001b[0m\u001b[0;34m:\u001b[0m\u001b[0;34m,\u001b[0m \u001b[0magent_id\u001b[0m\u001b[0;34m]\u001b[0m\u001b[0;34m.\u001b[0m\u001b[0mrehsape\u001b[0m\u001b[0;34m(\u001b[0m\u001b[0mdones\u001b[0m\u001b[0;34m[\u001b[0m\u001b[0;36m0\u001b[0m\u001b[0;34m]\u001b[0m\u001b[0;34m,\u001b[0m \u001b[0;36m1\u001b[0m\u001b[0;34m)\u001b[0m\u001b[0;34m\u001b[0m\u001b[0;34m\u001b[0m\u001b[0m\n\u001b[1;32m    165\u001b[0m         \u001b[0mprint\u001b[0m\u001b[0;34m(\u001b[0m\u001b[0;34m\"       reward = \"\u001b[0m\u001b[0;34m,\u001b[0m \u001b[0mreward\u001b[0m\u001b[0;34m)\u001b[0m\u001b[0;34m\u001b[0m\u001b[0;34m\u001b[0m\u001b[0m\n",
      "\u001b[0;31mTypeError\u001b[0m: reshape(): argument 'shape' (position 1) must be tuple of ints, not Tensor"
     ]
    }
   ],
   "source": [
    "# This cell will explore several combinations of hyperparams by training all of them\n",
    "\n",
    "if EXPLORE:\n",
    "    \n",
    "    EPISODES     = 100\n",
    "    RUN_PREFIX   = \"E08\"\n",
    "    DECAY        = 0.9995\n",
    "    SEEDS        = (0,) #(0, 111, 468, 5555, 23100, 44939)\n",
    "    BATCHES      = (2,)\n",
    "    TIME_STEPSES = (200,)\n",
    "    LEARN_EVERYS = (1,)\n",
    "    LEARN_ITERS  = (1,)\n",
    "    \n",
    "    num_sets = len(SEEDS) * len(BATCHES ) * len(TIME_STEPSES) * len(LEARN_EVERYS) * len(LEARN_ITERS)\n",
    "    print(\"Ready to train over {} training sets\".format(num_sets))\n",
    "    set_id = 0\n",
    "    for SEED in SEEDS:\n",
    "        for BATCH in BATCHES:\n",
    "            for TIME_STEPS in TIME_STEPSES:\n",
    "                for LEARN_EVERY in LEARN_EVERYS:\n",
    "                    for LEARN_ITER in LEARN_ITERS:\n",
    "                        \n",
    "                        set_id += 1\n",
    "                        RUN_NAME = \"{}.{:02d}\".format(RUN_PREFIX, set_id)\n",
    "                        print(\"\\n///// Beginning training set \", RUN_NAME, \" with:\")\n",
    "                        print(\"      Seed             = \", SEED)\n",
    "                        print(\"      Batch size       = \", BATCH)\n",
    "                        print(\"      Time steps       = \", TIME_STEPS)\n",
    "                        print(\"      Learning every     \", LEARN_EVERY, \" time steps\")\n",
    "                        print(\"      Learn iterations = \", LEARN_ITER)\n",
    "    \n",
    "                        ##### instantiate the agents and perform the training\n",
    "\n",
    "                        maddpg = Maddpg(state_size, action_size, 2, random_seed=SEED, batch_size=BATCH, \n",
    "                                        noise_decay=DECAY, learn_every=LEARN_EVERY, learn_iter=LEARN_ITER)\n",
    "\n",
    "                        scores = train(maddpg, env, run_name=RUN_NAME, max_episodes=EPISODES, \n",
    "                                       winning_score=0.5, max_time_steps=TIME_STEPS)\n",
    "\n",
    "                        ##### plot the training reward history\n",
    "\n",
    "                        fig = plt.figure()\n",
    "                        ax = fig.add_subplot(111)\n",
    "                        plt.plot(np.arange(len(scores)), scores)\n",
    "                        plt.ylabel('Score')\n",
    "                        plt.xlabel('Episode #')\n",
    "                        plt.show()\n",
    "                        \n",
    "    print(\"\\n\\nDONE!\")"
   ]
  },
  {
   "cell_type": "markdown",
   "metadata": {},
   "source": [
    "# HEY JOHN - TODO!\n",
    "\n",
    "- update main.py to match the above code {ALL CELLS}\n",
    "- Test running from cmd line (may need a script?)\n",
    "- Clean up the bottom part of this notebook"
   ]
  },
  {
   "cell_type": "code",
   "execution_count": null,
   "metadata": {},
   "outputs": [],
   "source": []
  },
  {
   "cell_type": "markdown",
   "metadata": {},
   "source": [
    "### 3. Take Random Actions in the Environment\n",
    "\n",
    "In the next code cell, you will learn how to use the Python API to control the agents and receive feedback from the environment.\n",
    "\n",
    "Once this cell is executed, you will watch the agents' performance, if they select actions at random with each time step.  A window should pop up that allows you to observe the agents.\n",
    "\n",
    "Of course, as part of the project, you'll have to change the code so that the agents are able to use their experiences to gradually choose better actions when interacting with the environment!"
   ]
  },
  {
   "cell_type": "code",
   "execution_count": null,
   "metadata": {},
   "outputs": [],
   "source": [
    "\"\"\"\n",
    "for i in range(10):                                        # play game for several episodes\n",
    "    env_info = env.reset(train_mode=False)[brain_name]     # reset the environment    \n",
    "    states = env_info.vector_observations             3     # get the current state (for each agent)\n",
    "    scores = np.zeros(num_agents)                          # initialize the score (for each agent)\n",
    "    num_steps = 0\n",
    "    while True:\n",
    "        actions = np.random.randn(num_agents, action_size) # select an action (for each agent)\n",
    "        actions = np.clip(actions, -1, 1)                  # all actions between -1 and 1\n",
    "        env_info = env.step(actions)[brain_name]           # send all actions to tne environment\n",
    "        next_states = env_info.vector_observations         # get next state (for each agent)\n",
    "        rewards = env_info.rewards                         # get reward (for each agent)\n",
    "        dones = env_info.local_done                        # see if episode finished\n",
    "        scores += env_info.rewards                         # update the score (for each agent)\n",
    "        states = next_states                               # roll over states to next time step\n",
    "        num_steps += 1\n",
    "        if np.any(dones):                                  # exit loop if episode finished\n",
    "            break\n",
    "    print('Episode {}: {:5.3f}, took {} steps'.format(i, np.max(scores), num_steps))\n",
    "\"\"\""
   ]
  },
  {
   "cell_type": "markdown",
   "metadata": {},
   "source": [
    "When finished, you can close the environment."
   ]
  },
  {
   "cell_type": "code",
   "execution_count": null,
   "metadata": {},
   "outputs": [],
   "source": [
    "env.close()"
   ]
  },
  {
   "cell_type": "code",
   "execution_count": null,
   "metadata": {},
   "outputs": [],
   "source": []
  }
 ],
 "metadata": {
  "kernelspec": {
   "display_name": "drlnd",
   "language": "python",
   "name": "drlnd"
  },
  "language_info": {
   "codemirror_mode": {
    "name": "ipython",
    "version": 3
   },
   "file_extension": ".py",
   "mimetype": "text/x-python",
   "name": "python",
   "nbconvert_exporter": "python",
   "pygments_lexer": "ipython3",
   "version": "3.6.12"
  }
 },
 "nbformat": 4,
 "nbformat_minor": 2
}
