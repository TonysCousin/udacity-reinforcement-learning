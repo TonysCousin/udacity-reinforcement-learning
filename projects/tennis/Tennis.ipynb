{
 "cells": [
  {
   "cell_type": "markdown",
   "metadata": {},
   "source": [
    "# Collaboration and Competition\n",
    "\n",
    "---\n",
    "\n",
    "This notebook runs John's solution for the third project of the [Deep Reinforcement Learning Nanodegree](https://www.udacity.com/course/deep-reinforcement-learning-nanodegree--nd893) program.  It uses the Unity ML-Agents environment to train two cooperative agents to play a tennis-like game.\n",
    "\n",
    "**Need more description here - refer to readme?**\n",
    "\n",
    "\n",
    "\n",
    "\n",
    "\n",
    "\n",
    "...\n"
   ]
  },
  {
   "cell_type": "markdown",
   "metadata": {},
   "source": [
    "This code depends upon a custom Unity environment provided by the Udacity staff that embodies the variation on tennis.  It will open a separate Unity window for visualizing the environment as the agents train or play.\n"
   ]
  },
  {
   "cell_type": "code",
   "execution_count": 1,
   "metadata": {
    "scrolled": true
   },
   "outputs": [
    {
     "name": "stderr",
     "output_type": "stream",
     "text": [
      "INFO:unityagents:\n",
      "'Academy' started successfully!\n",
      "Unity Academy name: Academy\n",
      "        Number of Brains: 1\n",
      "        Number of External Brains : 1\n",
      "        Lesson number : 0\n",
      "        Reset Parameters :\n",
      "\t\t\n",
      "Unity brain name: TennisBrain\n",
      "        Number of Visual Observations (per agent): 0\n",
      "        Vector Observation space type: continuous\n",
      "        Vector Observation space size (per agent): 8\n",
      "        Number of stacked Vector Observation: 3\n",
      "        Vector Action space type: continuous\n",
      "        Vector Action space size (per agent): 2\n",
      "        Vector Action descriptions: , \n"
     ]
    }
   ],
   "source": [
    "from unityagents import UnityEnvironment\n",
    "\n",
    "env = UnityEnvironment(file_name=\"Tennis_Linux/Tennis.x86_64\", no_graphics=True)\n",
    "\n",
    "# get the default brain\n",
    "brain_name = env.brain_names[0]\n",
    "brain = env.brains[brain_name]"
   ]
  },
  {
   "cell_type": "markdown",
   "metadata": {},
   "source": [
    "The next cell simply prints some verification info about the environment."
   ]
  },
  {
   "cell_type": "code",
   "execution_count": 2,
   "metadata": {},
   "outputs": [
    {
     "name": "stdout",
     "output_type": "stream",
     "text": [
      "Number of agents: 2\n",
      "Size of each action: 2\n",
      "There are 2 agents. Each observes a state with length: 24\n",
      "The state for the first agent looks like: [ 0.          0.          0.          0.          0.          0.\n",
      "  0.          0.          0.          0.          0.          0.\n",
      "  0.          0.          0.          0.         -6.65278625 -1.5\n",
      " -0.          0.          6.83172083  6.         -0.          0.        ]\n"
     ]
    }
   ],
   "source": [
    "# reset the environment\n",
    "env_info = env.reset(train_mode=True)[brain_name]\n",
    "\n",
    "# number of agents \n",
    "num_agents = len(env_info.agents)\n",
    "print('Number of agents:', num_agents)\n",
    "\n",
    "# size of each action\n",
    "action_size = brain.vector_action_space_size\n",
    "print('Size of each action:', action_size)\n",
    "\n",
    "# examine the state space \n",
    "states = env_info.vector_observations\n",
    "state_size = states.shape[1]\n",
    "print('There are {} agents. Each observes a state with length: {}'.format(states.shape[0], state_size))\n",
    "print('The state for the first agent looks like:', states[0])"
   ]
  },
  {
   "cell_type": "markdown",
   "metadata": {},
   "source": [
    "## Train the agents\n",
    "\n",
    "The next cells will invoke the training program to create the agents.  All of the real code is in Python flat files in this project directory."
   ]
  },
  {
   "cell_type": "code",
   "execution_count": 3,
   "metadata": {},
   "outputs": [],
   "source": [
    "TRAIN = False\n",
    "EXPLORE = True"
   ]
  },
  {
   "cell_type": "code",
   "execution_count": 4,
   "metadata": {},
   "outputs": [],
   "source": [
    "import numpy as np\n",
    "import matplotlib.pyplot as plt\n",
    "from train import train\n",
    "from maddpg import Maddpg\n",
    "\n",
    "%matplotlib inline\n",
    "\n",
    "if TRAIN:\n",
    "    \n",
    "    ##### set up key hyperparams\n",
    "\n",
    "    EPISODES          = 8000\n",
    "    RUN_NAME          = '02' #used for config control & naming of checpoint files\n",
    "    SEED              = 111\n",
    "    BATCH             = 1000\n",
    "    TIME_STEPS        = 500\n",
    "    DECAY             = 0.9999\n",
    "    LEARN_EVERY       = 10\n",
    "    LEARN_ITER        = 4\n",
    "\n",
    "    ##### instantiate the agents and perform the training\n",
    "\n",
    "    player_a = DdpgAgent(state_size, action_size, random_seed=SEED, batch_size=BATCH, noise_decay=DECAY, \n",
    "                         learn_every=LEARN_EVERY, learn_iter=LEARN_ITER)\n",
    "    player_b = DdpgAgent(state_size, action_size, random_seed=SEED, batch_size=BATCH, noise_decay=DECAY, \n",
    "                         learn_every=LEARN_EVERY, learn_iter=LEARN_ITER)\n",
    "\n",
    "    scores = train(player_a, player_b, env, run_name=RUN_NAME, max_episodes=EPISODES, \n",
    "                   winning_score=0.5, max_time_steps=TIME_STEPS)\n",
    "\n",
    "    ##### plot the training reward history\n",
    "\n",
    "    fig = plt.figure()\n",
    "    ax = fig.add_subplot(111)\n",
    "    plt.plot(np.arange(len(scores)), scores)\n",
    "    plt.ylabel('Score')\n",
    "    plt.xlabel('Episode #')\n",
    "    plt.show()"
   ]
  },
  {
   "cell_type": "code",
   "execution_count": 5,
   "metadata": {
    "scrolled": true
   },
   "outputs": [
    {
     "name": "stdout",
     "output_type": "stream",
     "text": [
      "Ready to train over 1 training sets\n",
      "\n",
      "///// Beginning training set  TEST.01  with:\n",
      "      Bad step prob    =  0.5\n",
      "      Batch size       =  1000\n",
      "      Time steps       =  200\n",
      "      Learning every      5  time steps\n",
      "      Learn iterations =  1\n",
      "             rewards =  [0.0, 0.0]\n",
      "             rewards =  [0.0, 0.0]\n",
      "             rewards =  [0.0, 0.0]\n",
      "...stepping.\n",
      "             rewards =  [0.0, 0.0]\n",
      "             rewards =  [0.0, 0.0]\n",
      "...stepping.\n",
      "             rewards =  [0.0, 0.0]\n",
      "             rewards =  [0.0, 0.0]\n",
      "...stepping.\n",
      "             rewards =  [0.0, 0.0]\n",
      "             rewards =  [0.0, 0.0]\n",
      "             rewards =  [0.0, 0.0]\n",
      "...stepping.\n",
      "             rewards =  [0.0, 0.0]\n",
      "             rewards =  [0.0, 0.0]\n",
      "...stepping.\n",
      "             rewards =  [0.0, 0.0]\n",
      "...stepping.\n",
      "             rewards =  [0.0, 0.0]\n",
      "...stepping.\n",
      "             rewards =  [0.0, 0.0]\n",
      "...stepping.\n",
      "             rewards =  [0.0, 0.0]\n",
      "             rewards =  [0.0, 0.0]\n",
      "             rewards =  [0.0, 0.0]\n",
      "...stepping.\n",
      "             rewards =  [0.0, 0.0]\n",
      "...stepping.\n",
      "             rewards =  [0.0, 0.0]\n",
      "...stepping.\n",
      "             rewards =  [0.0, 0.10000000149011612]\n",
      "...stepping.\n",
      "             rewards =  [0.0, 0.0]\n",
      "...stepping.\n",
      "             rewards =  [0.0, 0.0]\n",
      "...stepping.\n",
      "             rewards =  [0.0, 0.0]\n",
      "...stepping.\n",
      "             rewards =  [0.0, 0.0]\n",
      "             rewards =  [0.0, 0.0]\n",
      "             rewards =  [-0.009999999776482582, 0.0]\n",
      "...stepping.\n",
      "0\tRunning avg/max: 0.100/0.100, mem:     16/     1 ( 0.1%), avg 456.0 eps/min                rewards =  [0.0, 0.0]\n",
      "...stepping.\n",
      "             rewards =  [0.0, 0.0]\n",
      "             rewards =  [0.0, 0.0]\n",
      "...stepping.\n",
      "             rewards =  [0.0, 0.0]\n",
      "             rewards =  [0.0, 0.0]\n",
      "             rewards =  [0.0, 0.0]\n",
      "             rewards =  [0.0, 0.0]\n",
      "...stepping.\n",
      "             rewards =  [0.0, 0.0]\n",
      "...stepping.\n",
      "             rewards =  [0.0, 0.0]\n",
      "             rewards =  [0.0, 0.0]\n",
      "...stepping.\n",
      "             rewards =  [0.0, 0.0]\n",
      "...stepping.\n",
      "             rewards =  [0.0, 0.0]\n",
      "...stepping.\n",
      "             rewards =  [0.0, 0.0]\n",
      "...stepping.\n",
      "             rewards =  [-0.009999999776482582, 0.0]\n",
      "...stepping.\n",
      "1\tRunning avg/max: 0.050/0.100, mem:     25/     1 ( 0.0%), avg 480.7 eps/min   \n",
      "Avg/max time steps/episode = 19.5/26\n"
     ]
    },
    {
     "data": {
      "image/png": "[encoded data removed]",
      "text/plain": [
       "<Figure size 432x288 with 1 Axes>"
      ]
     },
     "metadata": {
      "needs_background": "light"
     },
     "output_type": "display_data"
    },
    {
     "name": "stdout",
     "output_type": "stream",
     "text": [
      "\n",
      "\n",
      "DONE!\n"
     ]
    }
   ],
   "source": [
    "# This cell will explore several combinations of hyperparams by training all of them\n",
    "\n",
    "SEED = 44939 #(0, 111, 468, 5555, 23100, 44939)\n",
    "\n",
    "if EXPLORE:\n",
    "    \n",
    "    EPISODES       = 2\n",
    "    RUN_PREFIX     = \"TEST\"\n",
    "    DECAY          = 0.9999\n",
    "    BAD_STEP_PROBS = (0.5,)\n",
    "    BATCHES        = (1000,)\n",
    "    TIME_STEPSES   = (200,)\n",
    "    LEARN_EVERYS   = (5,)\n",
    "    LEARN_ITERS    = (1,)\n",
    "    \n",
    "    num_sets = len(BAD_STEP_PROBS) * len(BATCHES ) * len(TIME_STEPSES) * len(LEARN_EVERYS) * len(LEARN_ITERS)\n",
    "    print(\"Ready to train over {} training sets\".format(num_sets))\n",
    "    set_id = 0\n",
    "    for BAD_STEP_PROB in BAD_STEP_PROBS:\n",
    "        for BATCH in BATCHES:\n",
    "            for TIME_STEPS in TIME_STEPSES:\n",
    "                for LEARN_EVERY in LEARN_EVERYS:\n",
    "                    for LEARN_ITER in LEARN_ITERS:\n",
    "                        \n",
    "                        set_id += 1\n",
    "                        RUN_NAME = \"{}.{:02d}\".format(RUN_PREFIX, set_id)\n",
    "                        print(\"\\n///// Beginning training set \", RUN_NAME, \" with:\")\n",
    "                        print(\"      Bad step prob    = \", BAD_STEP_PROB)\n",
    "                        print(\"      Batch size       = \", BATCH)\n",
    "                        print(\"      Time steps       = \", TIME_STEPS)\n",
    "                        print(\"      Learning every     \", LEARN_EVERY, \" time steps\")\n",
    "                        print(\"      Learn iterations = \", LEARN_ITER)\n",
    "    \n",
    "                        ##### instantiate the agents and perform the training\n",
    "\n",
    "                        maddpg = Maddpg(state_size, action_size, 2, bad_step_prob=BAD_STEP_PROB,\n",
    "                                        random_seed=SEED, batch_size=BATCH, noise_decay=DECAY, \n",
    "                                        learn_every=LEARN_EVERY, learn_iter=LEARN_ITER)\n",
    "\n",
    "                        scores = train(maddpg, env, run_name=RUN_NAME, max_episodes=EPISODES, \n",
    "                                       winning_score=0.5, max_time_steps=TIME_STEPS,\n",
    "                                       checkpoint_interval=500)\n",
    "\n",
    "                        ##### plot the training reward history\n",
    "\n",
    "                        fig = plt.figure()\n",
    "                        ax = fig.add_subplot(111)\n",
    "                        plt.plot(np.arange(len(scores)), scores)\n",
    "                        plt.ylabel('Score')\n",
    "                        plt.xlabel('Episode #')\n",
    "                        plt.show()\n",
    "                        \n",
    "    print(\"\\n\\nDONE!\")"
   ]
  },
  {
   "cell_type": "markdown",
   "metadata": {},
   "source": [
    "# HEY JOHN - TODO!\n",
    "\n",
    "- update main.py to match the above code {ALL CELLS}\n",
    "- Test running from cmd line (may need a script?)\n",
    "- Clean up the bottom part of this notebook"
   ]
  },
  {
   "cell_type": "code",
   "execution_count": null,
   "metadata": {},
   "outputs": [],
   "source": []
  },
  {
   "cell_type": "markdown",
   "metadata": {},
   "source": [
    "### 3. Take Random Actions in the Environment\n",
    "\n",
    "In the next code cell, you will learn how to use the Python API to control the agents and receive feedback from the environment.\n",
    "\n",
    "Once this cell is executed, you will watch the agents' performance, if they select actions at random with each time step.  A window should pop up that allows you to observe the agents.\n",
    "\n",
    "Of course, as part of the project, you'll have to change the code so that the agents are able to use their experiences to gradually choose better actions when interacting with the environment!"
   ]
  },
  {
   "cell_type": "code",
   "execution_count": 6,
   "metadata": {},
   "outputs": [
    {
     "data": {
      "text/plain": [
       "\"\\nfor i in range(10):                                        # play game for several episodes\\n    env_info = env.reset(train_mode=False)[brain_name]     # reset the environment    \\n    states = env_info.vector_observations             3     # get the current state (for each agent)\\n    scores = np.zeros(num_agents)                          # initialize the score (for each agent)\\n    num_steps = 0\\n    while True:\\n        actions = np.random.randn(num_agents, action_size) # select an action (for each agent)\\n        actions = np.clip(actions, -1, 1)                  # all actions between -1 and 1\\n        env_info = env.step(actions)[brain_name]           # send all actions to tne environment\\n        next_states = env_info.vector_observations         # get next state (for each agent)\\n        rewards = env_info.rewards                         # get reward (for each agent)\\n        dones = env_info.local_done                        # see if episode finished\\n        scores += env_info.rewards                         # update the score (for each agent)\\n        states = next_states                               # roll over states to next time step\\n        num_steps += 1\\n        if np.any(dones):                                  # exit loop if episode finished\\n            break\\n    print('Episode {}: {:5.3f}, took {} steps'.format(i, np.max(scores), num_steps))\\n\""
      ]
     },
     "execution_count": 6,
     "metadata": {},
     "output_type": "execute_result"
    }
   ],
   "source": [
    "\"\"\"\n",
    "for i in range(10):                                        # play game for several episodes\n",
    "    env_info = env.reset(train_mode=False)[brain_name]     # reset the environment    \n",
    "    states = env_info.vector_observations             3     # get the current state (for each agent)\n",
    "    scores = np.zeros(num_agents)                          # initialize the score (for each agent)\n",
    "    num_steps = 0\n",
    "    while True:\n",
    "        actions = np.random.randn(num_agents, action_size) # select an action (for each agent)\n",
    "        actions = np.clip(actions, -1, 1)                  # all actions between -1 and 1\n",
    "        env_info = env.step(actions)[brain_name]           # send all actions to tne environment\n",
    "        next_states = env_info.vector_observations         # get next state (for each agent)\n",
    "        rewards = env_info.rewards                         # get reward (for each agent)\n",
    "        dones = env_info.local_done                        # see if episode finished\n",
    "        scores += env_info.rewards                         # update the score (for each agent)\n",
    "        states = next_states                               # roll over states to next time step\n",
    "        num_steps += 1\n",
    "        if np.any(dones):                                  # exit loop if episode finished\n",
    "            break\n",
    "    print('Episode {}: {:5.3f}, took {} steps'.format(i, np.max(scores), num_steps))\n",
    "\"\"\""
   ]
  },
  {
   "cell_type": "markdown",
   "metadata": {},
   "source": [
    "When finished, you can close the environment."
   ]
  },
  {
   "cell_type": "code",
   "execution_count": 7,
   "metadata": {},
   "outputs": [],
   "source": [
    "env.close()"
   ]
  },
  {
   "cell_type": "code",
   "execution_count": null,
   "metadata": {},
   "outputs": [],
   "source": []
  }
 ],
 "metadata": {
  "kernelspec": {
   "display_name": "drlnd",
   "language": "python",
   "name": "drlnd"
  },
  "language_info": {
   "codemirror_mode": {
    "name": "ipython",
    "version": 3
   },
   "file_extension": ".py",
   "mimetype": "text/x-python",
   "name": "python",
   "nbconvert_exporter": "python",
   "pygments_lexer": "ipython3",
   "version": "3.6.12"
  }
 },
 "nbformat": 4,
 "nbformat_minor": 2
}
