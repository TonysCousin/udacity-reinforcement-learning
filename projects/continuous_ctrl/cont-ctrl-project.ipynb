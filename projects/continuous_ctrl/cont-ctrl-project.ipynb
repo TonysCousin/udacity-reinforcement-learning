{
 "cells": [
  {
   "cell_type": "markdown",
   "metadata": {},
   "source": [
    "# Continuous Control Project\n",
    "\n",
    "I'll begin this project by implementing a straight DDPG solution and see how that works.  Depending on the amount of time it takes, I hope to follow up with additional layers of sophistication.\n",
    "\n",
    "-----"
   ]
  },
  {
   "cell_type": "markdown",
   "metadata": {},
   "source": [
    "## Solution 1 - Simple DDPG\n",
    "\n",
    "The code below is based on the Udacity instructor-provided code from the financial markets lesson.  I have modified it somewhat to adapt to the robot arm problem for this project.\n",
    "\n",
    "### Set up the Unity reacher environment for a single arm"
   ]
  },
  {
   "cell_type": "code",
   "execution_count": 1,
   "metadata": {},
   "outputs": [
    {
     "name": "stdout",
     "output_type": "stream",
     "text": [
      "\u001b[31mERROR: Could not find a version that satisfies the requirement tensorflow==1.7.1 (from unityagents==0.4.0) (from versions: 2.2.0rc1, 2.2.0rc2, 2.2.0rc3, 2.2.0rc4, 2.2.0, 2.2.1, 2.2.2, 2.3.0rc0, 2.3.0rc1, 2.3.0rc2, 2.3.0, 2.3.1, 2.3.2, 2.4.0rc0, 2.4.0rc1, 2.4.0rc2, 2.4.0rc3, 2.4.0rc4, 2.4.0, 2.4.1)\u001b[0m\n",
      "\u001b[31mERROR: No matching distribution found for tensorflow==1.7.1 (from unityagents==0.4.0)\u001b[0m\n",
      "Python install done.\n"
     ]
    },
    {
     "name": "stderr",
     "output_type": "stream",
     "text": [
      "INFO:unityagents:\n",
      "'Academy' started successfully!\n",
      "Unity Academy name: Academy\n",
      "        Number of Brains: 1\n",
      "        Number of External Brains : 1\n",
      "        Lesson number : 0\n",
      "        Reset Parameters :\n",
      "\t\tgoal_size -> 5.0\n",
      "\t\tgoal_speed -> 1.0\n",
      "Unity brain name: ReacherBrain\n",
      "        Number of Visual Observations (per agent): 0\n",
      "        Vector Observation space type: continuous\n",
      "        Vector Observation space size (per agent): 33\n",
      "        Number of stacked Vector Observation: 1\n",
      "        Vector Action space type: continuous\n",
      "        Vector Action space size (per agent): 4\n",
      "        Vector Action descriptions: , , , \n"
     ]
    },
    {
     "name": "stdout",
     "output_type": "stream",
     "text": [
      "Environment defined.\n",
      "Unity brain name: ReacherBrain\n",
      "        Number of Visual Observations (per agent): 0\n",
      "        Vector Observation space type: continuous\n",
      "        Vector Observation space size (per agent): 33\n",
      "        Number of stacked Vector Observation: 1\n",
      "        Vector Action space type: continuous\n",
      "        Vector Action space size (per agent): 4\n",
      "        Vector Action descriptions: , , , \n"
     ]
    }
   ],
   "source": [
    "!pip -q install ./python\n",
    "print(\"Python install done.\")\n",
    "\n",
    "from unityagents import UnityEnvironment\n",
    "import numpy as np\n",
    "\n",
    "# select this option to load version 1 (with a single agent) of the environment\n",
    "env = UnityEnvironment(file_name='Reacher_Linux/Reacher.x86_64')\n",
    "print(\"Environment defined.\")\n",
    "\n",
    "# select this option to load version 2 (with 20 agents) of the environment\n",
    "# env = UnityEnvironment(file_name='/data/Reacher_Linux_NoVis/Reacher.x86_64')\n",
    "\n",
    "# get the default brain\n",
    "brain_name = env.brain_names[0]\n",
    "brain = env.brains[brain_name]\n",
    "print(brain)"
   ]
  },
  {
   "cell_type": "code",
   "execution_count": 2,
   "metadata": {},
   "outputs": [],
   "source": [
    "##### Set up the environment\n",
    "\n",
    "import time\n",
    "import numpy as np\n",
    "import random\n",
    "from collections import namedtuple, deque\n",
    "import torch\n",
    "import torch.nn as nn\n",
    "import torch.nn.functional as F\n",
    "import torch.optim as optim\n",
    "import matplotlib.pyplot as plt\n",
    "from ddpg_agent import DdpgAgent\n",
    "\n",
    "%matplotlib inline\n"
   ]
  },
  {
   "cell_type": "code",
   "execution_count": 3,
   "metadata": {},
   "outputs": [],
   "source": [
    "WINNING_SCORE = 30.0 #average over 100 consecutive episodes\n",
    "\n",
    "def train(agent, env, max_episodes=20, max_time_steps=100, break_in=32, sleeping=False):\n",
    "\n",
    "    # Initialize simulation environment\n",
    "    brain_name = env.brain_names[0]\n",
    "    brain = env.brains[brain_name]\n",
    "    env_info = env.reset(train_mode=True)[brain_name]\n",
    "    state_size = len(env_info.vector_observations[0])\n",
    "    action_size = brain.vector_action_space_size\n",
    "\n",
    "    scores = []\n",
    "    recent_scores = deque(maxlen=100)\n",
    "\n",
    "    # loop on episodes\n",
    "    for e in range(max_episodes):\n",
    "        \n",
    "        # Reset the enviroment\n",
    "        env_info = env.reset(train_mode=True)[brain_name]\n",
    "        state = env_info.vector_observations[0]\n",
    "        score = 0 #total score for this episode\n",
    "\n",
    "        # loop over time steps\n",
    "        for i in range(max_time_steps):\n",
    "\n",
    "            # Predict the best action for the current state.\n",
    "            action = agent.act(state)\n",
    "\n",
    "            # get the new state & reward based on this action\n",
    "            env_info = env.step(action)[brain_name]\n",
    "            next_state = env_info.vector_observations[0]\n",
    "            reward = env_info.rewards[0]\n",
    "            done = env_info.local_done[0]\n",
    "\n",
    "            # update the agent with this new info\n",
    "            agent.step(state, action, reward, next_state, done)\n",
    "\n",
    "            # roll over new state\n",
    "            state = next_state\n",
    "            score += reward\n",
    "            if done:\n",
    "                break\n",
    "\n",
    "        # update score bookkeeping, report status and decide if training is complete\n",
    "        scores.append(score)\n",
    "        recent_scores.append(score)\n",
    "        avg_score = np.mean(recent_scores)\n",
    "        print('\\rEpisode {}\\tAverage Score: {:.2f}'.format(e, avg_score), end=\"\")\n",
    "        if e > 0  and  e % 100 == 0:\n",
    "            print('\\rEpisode {}\\tAverage Score: {:.2f}'.format(e, avg_score))\n",
    "\n",
    "        if sleeping:\n",
    "            if e > break_in  and  e % 1000 < 50:\n",
    "                time.sleep(1) #allow time to view the Unity window\n",
    "\n",
    "        if e % 1000 == 0:\n",
    "            torch.save(agent.actor_local.state_dict(), 'checkpointa_{}.pt'.format(e))\n",
    "            torch.save(agent.critic_local.state_dict(), 'checkpointc_{}.pt'.format(e))\n",
    "            \n",
    "        if avg_score >= WINNING_SCORE:\n",
    "            print('\\nEnvironment solved in {:d} episodes!\\tAverage Score: {:.2f}'.format(e, avg_score))\n",
    "            torch.save(agent.actor_local.state_dict(), 'checkpointa.pt')\n",
    "            torch.save(agent.critic_local.state_dict(), 'checkpointc.pt')\n",
    "            break\n",
    "\n",
    "    return scores"
   ]
  },
  {
   "cell_type": "code",
   "execution_count": 4,
   "metadata": {},
   "outputs": [
    {
     "name": "stdout",
     "output_type": "stream",
     "text": [
      "Episode 100\tAverage Score: 0.05\n",
      "Episode 200\tAverage Score: 0.04\n",
      "Episode 300\tAverage Score: 0.04\n",
      "Episode 400\tAverage Score: 0.04\n",
      "Episode 500\tAverage Score: 0.09\n",
      "Episode 600\tAverage Score: 0.21\n",
      "Episode 700\tAverage Score: 0.21\n",
      "Episode 800\tAverage Score: 0.21\n",
      "Episode 900\tAverage Score: 0.22\n",
      "Episode 1000\tAverage Score: 0.26\n",
      "Episode 1100\tAverage Score: 0.19\n",
      "Episode 1200\tAverage Score: 0.22\n",
      "Episode 1300\tAverage Score: 0.24\n",
      "Episode 1400\tAverage Score: 0.24\n",
      "Episode 1500\tAverage Score: 0.23\n",
      "Episode 1600\tAverage Score: 0.24\n",
      "Episode 1700\tAverage Score: 0.21\n",
      "Episode 1800\tAverage Score: 0.25\n",
      "Episode 1900\tAverage Score: 0.25\n",
      "Episode 2000\tAverage Score: 0.23\n",
      "Episode 2100\tAverage Score: 0.22\n",
      "Episode 2200\tAverage Score: 0.26\n",
      "Episode 2300\tAverage Score: 0.23\n",
      "Episode 2400\tAverage Score: 0.25\n",
      "Episode 2500\tAverage Score: 0.23\n",
      "Episode 2600\tAverage Score: 0.26\n",
      "Episode 2700\tAverage Score: 0.22\n",
      "Episode 2800\tAverage Score: 0.25\n",
      "Episode 2900\tAverage Score: 0.21\n",
      "Episode 2999\tAverage Score: 0.22"
     ]
    },
    {
     "data": {
      "image/png": "[encoded data removed]",
      "text/plain": [
       "<Figure size 432x288 with 1 Axes>"
      ]
     },
     "metadata": {
      "needs_background": "light"
     },
     "output_type": "display_data"
    }
   ],
   "source": [
    "## Train the model & observe its progress\n",
    "\n",
    "BATCH = 32\n",
    "a = DdpgAgent(33, 4, random_seed=0, batch_size=BATCH)\n",
    "\n",
    "scores = train(a, env, max_episodes=3000, max_time_steps=400, break_in=BATCH, sleeping=True)\n",
    "fig = plt.figure()\n",
    "ax = fig.add_subplot(111)\n",
    "plt.plot(np.arange(len(scores)), scores)\n",
    "plt.ylabel('Score')\n",
    "plt.xlabel('Episode #')\n",
    "plt.show()\n"
   ]
  },
  {
   "cell_type": "code",
   "execution_count": 5,
   "metadata": {},
   "outputs": [],
   "source": [
    "env.close()"
   ]
  },
  {
   "cell_type": "code",
   "execution_count": null,
   "metadata": {},
   "outputs": [],
   "source": []
  }
 ],
 "metadata": {
  "kernelspec": {
   "display_name": "drlnd",
   "language": "python",
   "name": "drlnd"
  },
  "language_info": {
   "codemirror_mode": {
    "name": "ipython",
    "version": 3
   },
   "file_extension": ".py",
   "mimetype": "text/x-python",
   "name": "python",
   "nbconvert_exporter": "python",
   "pygments_lexer": "ipython3",
   "version": "3.6.12"
  }
 },
 "nbformat": 4,
 "nbformat_minor": 5
}
